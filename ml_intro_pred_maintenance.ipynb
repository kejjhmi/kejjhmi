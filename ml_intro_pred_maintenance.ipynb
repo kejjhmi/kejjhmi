{
  "nbformat": 4,
  "nbformat_minor": 0,
  "metadata": {
    "colab": {
      "provenance": [],
      "collapsed_sections": [
        "oaoQmknJFdLL"
      ],
      "include_colab_link": true
    },
    "kernelspec": {
      "name": "python3",
      "display_name": "Python 3"
    },
    "language_info": {
      "name": "python"
    }
  },
  "cells": [
    {
      "cell_type": "markdown",
      "metadata": {
        "id": "view-in-github",
        "colab_type": "text"
      },
      "source": [
        "<a href=\"https://colab.research.google.com/github/kejjhmi/kejjhmi/blob/main/ml_intro_pred_maintenance.ipynb\" target=\"_parent\"><img src=\"https://colab.research.google.com/assets/colab-badge.svg\" alt=\"Open In Colab\"/></a>"
      ]
    },
    {
      "cell_type": "markdown",
      "metadata": {
        "id": "ZgqkZPZdi_Pc"
      },
      "source": [
        "#**Introduction to AI & ML**\n",
        "### *Michaela Buchanan - Mark III Systems*"
      ]
    },
    {
      "cell_type": "markdown",
      "metadata": {
        "id": "SP0wDI62k7nm"
      },
      "source": [
        "If you would like to see some more examples using these algorithms, there is are two other versions of this notebook available. One focuses on predicting car prices and the other looks at determining if tumors are malignant or benign. See the links below to check them out.\n",
        "\n",
        "\n",
        "**Car price prediction:**\n",
        "\n",
        "https://colab.research.google.com/drive/1-7g2CRQinW_ytjZvJbOd74vnqu4OAdoL?usp=sharing\n",
        "\n",
        "**Tumor classification:**\n",
        "\n",
        "https://colab.research.google.com/drive/1SOhm2tqj62hb8GmLPJw6LhE5BFnpePXn?usp=sharing\n",
        "\n",
        "---"
      ]
    },
    {
      "cell_type": "markdown",
      "source": [
        "Imports for all the code below. Please run first before anything else!"
      ],
      "metadata": {
        "id": "By7Y4eUvaJfW"
      }
    },
    {
      "cell_type": "code",
      "metadata": {
        "id": "byHwkWWKlCmF",
        "colab": {
          "base_uri": "https://localhost:8080/"
        },
        "outputId": "8983c679-c562-4b0e-b845-55167eccea31"
      },
      "source": [
        "!git clone https://github.com/michaelabuchanan/ml_workshop.git\n",
        "!pip install pycm==3.7\n",
        "import sys\n",
        "\n",
        "# data preprocessing\n",
        "import pandas as pd\n",
        "import numpy as np\n",
        "import matplotlib\n",
        "from sklearn.model_selection import train_test_split\n",
        "\n",
        "# logistic regression\n",
        "from matplotlib import pyplot as plt\n",
        "import numpy as np\n",
        "from sklearn import datasets\n",
        "from sklearn.linear_model import LogisticRegression\n",
        "from sklearn.metrics import f1_score, accuracy_score\n",
        "from pycm import ConfusionMatrix\n",
        "import cv2\n",
        "\n",
        "# random forest\n",
        "from sklearn import tree, metrics\n",
        "from sklearn.tree import DecisionTreeClassifier\n",
        "from sklearn.ensemble import RandomForestClassifier\n",
        "\n",
        "# xgboost\n",
        "from xgboost import XGBClassifier\n",
        "\n",
        "print(sys.version)"
      ],
      "execution_count": null,
      "outputs": [
        {
          "output_type": "stream",
          "name": "stdout",
          "text": [
            "fatal: destination path 'ml_workshop' already exists and is not an empty directory.\n",
            "Requirement already satisfied: pycm==3.7 in /usr/local/lib/python3.10/dist-packages (3.7)\n",
            "Requirement already satisfied: art>=1.8 in /usr/local/lib/python3.10/dist-packages (from pycm==3.7) (6.1)\n",
            "Requirement already satisfied: numpy>=1.9.0 in /usr/local/lib/python3.10/dist-packages (from pycm==3.7) (1.23.5)\n",
            "3.10.12 (main, Jun 11 2023, 05:26:28) [GCC 11.4.0]\n"
          ]
        }
      ]
    },
    {
      "cell_type": "markdown",
      "metadata": {
        "id": "EQQCGfdiHZhJ"
      },
      "source": [
        "\n",
        "\n",
        "---\n",
        "\n",
        "###Introduction\n"
      ]
    },
    {
      "cell_type": "markdown",
      "metadata": {
        "id": "8Hs8mq7lyra_"
      },
      "source": [
        "This workshop will be showing both the workflow of a typical ML project as well as demonstrating a few common models. We will be following the ML Project lifecycle mentioned in the previous lecture and covering linear regression, decision trees, random forest, and XGBoost models."
      ]
    },
    {
      "cell_type": "markdown",
      "metadata": {
        "id": "h4v9HLjpyjef"
      },
      "source": [
        "![ml_lifecycle.png](data:image/png;base64,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)"
      ]
    },
    {
      "cell_type": "markdown",
      "source": [
        "In this notebook we will be looking at a synthetic dataset that \"reflects real predictive maintenance encountered in the industry\". [Click here](https://archive.ics.uci.edu/ml/datasets/AI4I+2020+Predictive+Maintenance+Dataset) to see the source for this dataset. We will be trying to predict the conditions that cause a machine to fail based on factors like tool wear, torque, rpm, and temperature."
      ],
      "metadata": {
        "id": "BIMtYfoF8owZ"
      }
    },
    {
      "cell_type": "markdown",
      "metadata": {
        "id": "oaoQmknJFdLL"
      },
      "source": [
        "\n",
        "---\n",
        "\n",
        "###Problem Definition\n"
      ]
    },
    {
      "cell_type": "markdown",
      "metadata": {
        "id": "rQVWopn6yxMU"
      },
      "source": [
        "Predict conditions that will produce a failure in the operation of a machine."
      ]
    },
    {
      "cell_type": "markdown",
      "metadata": {
        "id": "ELQD4DppH7GF"
      },
      "source": [
        "\n",
        "\n",
        "---\n",
        "\n",
        "### Data Analysis/Preprocessing\n"
      ]
    },
    {
      "cell_type": "markdown",
      "metadata": {
        "id": "kfpLQ2S1y1KY"
      },
      "source": [
        "The first step we need to take is to look at our data. In the first cell you ran, you cloned a GitHub repo which contained the `pred_maintenance.csv` file. A few rows of this file are shown below."
      ]
    },
    {
      "cell_type": "code",
      "metadata": {
        "id": "AwgHuD2TIPkr",
        "colab": {
          "base_uri": "https://localhost:8080/",
          "height": 455
        },
        "outputId": "3ae1b861-db23-4e8e-f2f8-8b845082d80d"
      },
      "source": [
        "data = pd.read_csv('./ml_workshop/pred_maintenance.csv', index_col=\"UDI\")\n",
        "data"
      ],
      "execution_count": null,
      "outputs": [
        {
          "output_type": "execute_result",
          "data": {
            "text/plain": [
              "      Product ID Type  Air temperature [K]  Process temperature [K]  \\\n",
              "UDI                                                                   \n",
              "1         M14860    M                298.1                    308.6   \n",
              "2         L47181    L                298.2                    308.7   \n",
              "3         L47182    L                298.1                    308.5   \n",
              "4         L47183    L                298.2                    308.6   \n",
              "5         L47184    L                298.2                    308.7   \n",
              "...          ...  ...                  ...                      ...   \n",
              "9996      M24855    M                298.8                    308.4   \n",
              "9997      H39410    H                298.9                    308.4   \n",
              "9998      M24857    M                299.0                    308.6   \n",
              "9999      H39412    H                299.0                    308.7   \n",
              "10000     M24859    M                299.0                    308.7   \n",
              "\n",
              "       Rotational speed [rpm]  Torque [Nm]  Tool wear [min]  Machine failure  \\\n",
              "UDI                                                                            \n",
              "1                        1551         42.8                0                0   \n",
              "2                        1408         46.3                3                0   \n",
              "3                        1498         49.4                5                0   \n",
              "4                        1433         39.5                7                0   \n",
              "5                        1408         40.0                9                0   \n",
              "...                       ...          ...              ...              ...   \n",
              "9996                     1604         29.5               14                0   \n",
              "9997                     1632         31.8               17                0   \n",
              "9998                     1645         33.4               22                0   \n",
              "9999                     1408         48.5               25                0   \n",
              "10000                    1500         40.2               30                0   \n",
              "\n",
              "       TWF  HDF  PWF  OSF  RNF  \n",
              "UDI                             \n",
              "1        0    0    0    0    0  \n",
              "2        0    0    0    0    0  \n",
              "3        0    0    0    0    0  \n",
              "4        0    0    0    0    0  \n",
              "5        0    0    0    0    0  \n",
              "...    ...  ...  ...  ...  ...  \n",
              "9996     0    0    0    0    0  \n",
              "9997     0    0    0    0    0  \n",
              "9998     0    0    0    0    0  \n",
              "9999     0    0    0    0    0  \n",
              "10000    0    0    0    0    0  \n",
              "\n",
              "[10000 rows x 13 columns]"
            ],
            "text/html": [
              "\n",
              "  <div id=\"df-a6830ac0-3bd5-495a-94ea-e1b453db9f44\" class=\"colab-df-container\">\n",
              "    <div>\n",
              "<style scoped>\n",
              "    .dataframe tbody tr th:only-of-type {\n",
              "        vertical-align: middle;\n",
              "    }\n",
              "\n",
              "    .dataframe tbody tr th {\n",
              "        vertical-align: top;\n",
              "    }\n",
              "\n",
              "    .dataframe thead th {\n",
              "        text-align: right;\n",
              "    }\n",
              "</style>\n",
              "<table border=\"1\" class=\"dataframe\">\n",
              "  <thead>\n",
              "    <tr style=\"text-align: right;\">\n",
              "      <th></th>\n",
              "      <th>Product ID</th>\n",
              "      <th>Type</th>\n",
              "      <th>Air temperature [K]</th>\n",
              "      <th>Process temperature [K]</th>\n",
              "      <th>Rotational speed [rpm]</th>\n",
              "      <th>Torque [Nm]</th>\n",
              "      <th>Tool wear [min]</th>\n",
              "      <th>Machine failure</th>\n",
              "      <th>TWF</th>\n",
              "      <th>HDF</th>\n",
              "      <th>PWF</th>\n",
              "      <th>OSF</th>\n",
              "      <th>RNF</th>\n",
              "    </tr>\n",
              "    <tr>\n",
              "      <th>UDI</th>\n",
              "      <th></th>\n",
              "      <th></th>\n",
              "      <th></th>\n",
              "      <th></th>\n",
              "      <th></th>\n",
              "      <th></th>\n",
              "      <th></th>\n",
              "      <th></th>\n",
              "      <th></th>\n",
              "      <th></th>\n",
              "      <th></th>\n",
              "      <th></th>\n",
              "      <th></th>\n",
              "    </tr>\n",
              "  </thead>\n",
              "  <tbody>\n",
              "    <tr>\n",
              "      <th>1</th>\n",
              "      <td>M14860</td>\n",
              "      <td>M</td>\n",
              "      <td>298.1</td>\n",
              "      <td>308.6</td>\n",
              "      <td>1551</td>\n",
              "      <td>42.8</td>\n",
              "      <td>0</td>\n",
              "      <td>0</td>\n",
              "      <td>0</td>\n",
              "      <td>0</td>\n",
              "      <td>0</td>\n",
              "      <td>0</td>\n",
              "      <td>0</td>\n",
              "    </tr>\n",
              "    <tr>\n",
              "      <th>2</th>\n",
              "      <td>L47181</td>\n",
              "      <td>L</td>\n",
              "      <td>298.2</td>\n",
              "      <td>308.7</td>\n",
              "      <td>1408</td>\n",
              "      <td>46.3</td>\n",
              "      <td>3</td>\n",
              "      <td>0</td>\n",
              "      <td>0</td>\n",
              "      <td>0</td>\n",
              "      <td>0</td>\n",
              "      <td>0</td>\n",
              "      <td>0</td>\n",
              "    </tr>\n",
              "    <tr>\n",
              "      <th>3</th>\n",
              "      <td>L47182</td>\n",
              "      <td>L</td>\n",
              "      <td>298.1</td>\n",
              "      <td>308.5</td>\n",
              "      <td>1498</td>\n",
              "      <td>49.4</td>\n",
              "      <td>5</td>\n",
              "      <td>0</td>\n",
              "      <td>0</td>\n",
              "      <td>0</td>\n",
              "      <td>0</td>\n",
              "      <td>0</td>\n",
              "      <td>0</td>\n",
              "    </tr>\n",
              "    <tr>\n",
              "      <th>4</th>\n",
              "      <td>L47183</td>\n",
              "      <td>L</td>\n",
              "      <td>298.2</td>\n",
              "      <td>308.6</td>\n",
              "      <td>1433</td>\n",
              "      <td>39.5</td>\n",
              "      <td>7</td>\n",
              "      <td>0</td>\n",
              "      <td>0</td>\n",
              "      <td>0</td>\n",
              "      <td>0</td>\n",
              "      <td>0</td>\n",
              "      <td>0</td>\n",
              "    </tr>\n",
              "    <tr>\n",
              "      <th>5</th>\n",
              "      <td>L47184</td>\n",
              "      <td>L</td>\n",
              "      <td>298.2</td>\n",
              "      <td>308.7</td>\n",
              "      <td>1408</td>\n",
              "      <td>40.0</td>\n",
              "      <td>9</td>\n",
              "      <td>0</td>\n",
              "      <td>0</td>\n",
              "      <td>0</td>\n",
              "      <td>0</td>\n",
              "      <td>0</td>\n",
              "      <td>0</td>\n",
              "    </tr>\n",
              "    <tr>\n",
              "      <th>...</th>\n",
              "      <td>...</td>\n",
              "      <td>...</td>\n",
              "      <td>...</td>\n",
              "      <td>...</td>\n",
              "      <td>...</td>\n",
              "      <td>...</td>\n",
              "      <td>...</td>\n",
              "      <td>...</td>\n",
              "      <td>...</td>\n",
              "      <td>...</td>\n",
              "      <td>...</td>\n",
              "      <td>...</td>\n",
              "      <td>...</td>\n",
              "    </tr>\n",
              "    <tr>\n",
              "      <th>9996</th>\n",
              "      <td>M24855</td>\n",
              "      <td>M</td>\n",
              "      <td>298.8</td>\n",
              "      <td>308.4</td>\n",
              "      <td>1604</td>\n",
              "      <td>29.5</td>\n",
              "      <td>14</td>\n",
              "      <td>0</td>\n",
              "      <td>0</td>\n",
              "      <td>0</td>\n",
              "      <td>0</td>\n",
              "      <td>0</td>\n",
              "      <td>0</td>\n",
              "    </tr>\n",
              "    <tr>\n",
              "      <th>9997</th>\n",
              "      <td>H39410</td>\n",
              "      <td>H</td>\n",
              "      <td>298.9</td>\n",
              "      <td>308.4</td>\n",
              "      <td>1632</td>\n",
              "      <td>31.8</td>\n",
              "      <td>17</td>\n",
              "      <td>0</td>\n",
              "      <td>0</td>\n",
              "      <td>0</td>\n",
              "      <td>0</td>\n",
              "      <td>0</td>\n",
              "      <td>0</td>\n",
              "    </tr>\n",
              "    <tr>\n",
              "      <th>9998</th>\n",
              "      <td>M24857</td>\n",
              "      <td>M</td>\n",
              "      <td>299.0</td>\n",
              "      <td>308.6</td>\n",
              "      <td>1645</td>\n",
              "      <td>33.4</td>\n",
              "      <td>22</td>\n",
              "      <td>0</td>\n",
              "      <td>0</td>\n",
              "      <td>0</td>\n",
              "      <td>0</td>\n",
              "      <td>0</td>\n",
              "      <td>0</td>\n",
              "    </tr>\n",
              "    <tr>\n",
              "      <th>9999</th>\n",
              "      <td>H39412</td>\n",
              "      <td>H</td>\n",
              "      <td>299.0</td>\n",
              "      <td>308.7</td>\n",
              "      <td>1408</td>\n",
              "      <td>48.5</td>\n",
              "      <td>25</td>\n",
              "      <td>0</td>\n",
              "      <td>0</td>\n",
              "      <td>0</td>\n",
              "      <td>0</td>\n",
              "      <td>0</td>\n",
              "      <td>0</td>\n",
              "    </tr>\n",
              "    <tr>\n",
              "      <th>10000</th>\n",
              "      <td>M24859</td>\n",
              "      <td>M</td>\n",
              "      <td>299.0</td>\n",
              "      <td>308.7</td>\n",
              "      <td>1500</td>\n",
              "      <td>40.2</td>\n",
              "      <td>30</td>\n",
              "      <td>0</td>\n",
              "      <td>0</td>\n",
              "      <td>0</td>\n",
              "      <td>0</td>\n",
              "      <td>0</td>\n",
              "      <td>0</td>\n",
              "    </tr>\n",
              "  </tbody>\n",
              "</table>\n",
              "<p>10000 rows × 13 columns</p>\n",
              "</div>\n",
              "    <div class=\"colab-df-buttons\">\n",
              "\n",
              "  <div class=\"colab-df-container\">\n",
              "    <button class=\"colab-df-convert\" onclick=\"convertToInteractive('df-a6830ac0-3bd5-495a-94ea-e1b453db9f44')\"\n",
              "            title=\"Convert this dataframe to an interactive table.\"\n",
              "            style=\"display:none;\">\n",
              "\n",
              "  <svg xmlns=\"http://www.w3.org/2000/svg\" height=\"24px\" viewBox=\"0 -960 960 960\">\n",
              "    <path d=\"M120-120v-720h720v720H120Zm60-500h600v-160H180v160Zm220 220h160v-160H400v160Zm0 220h160v-160H400v160ZM180-400h160v-160H180v160Zm440 0h160v-160H620v160ZM180-180h160v-160H180v160Zm440 0h160v-160H620v160Z\"/>\n",
              "  </svg>\n",
              "    </button>\n",
              "\n",
              "  <style>\n",
              "    .colab-df-container {\n",
              "      display:flex;\n",
              "      gap: 12px;\n",
              "    }\n",
              "\n",
              "    .colab-df-convert {\n",
              "      background-color: #E8F0FE;\n",
              "      border: none;\n",
              "      border-radius: 50%;\n",
              "      cursor: pointer;\n",
              "      display: none;\n",
              "      fill: #1967D2;\n",
              "      height: 32px;\n",
              "      padding: 0 0 0 0;\n",
              "      width: 32px;\n",
              "    }\n",
              "\n",
              "    .colab-df-convert:hover {\n",
              "      background-color: #E2EBFA;\n",
              "      box-shadow: 0px 1px 2px rgba(60, 64, 67, 0.3), 0px 1px 3px 1px rgba(60, 64, 67, 0.15);\n",
              "      fill: #174EA6;\n",
              "    }\n",
              "\n",
              "    .colab-df-buttons div {\n",
              "      margin-bottom: 4px;\n",
              "    }\n",
              "\n",
              "    [theme=dark] .colab-df-convert {\n",
              "      background-color: #3B4455;\n",
              "      fill: #D2E3FC;\n",
              "    }\n",
              "\n",
              "    [theme=dark] .colab-df-convert:hover {\n",
              "      background-color: #434B5C;\n",
              "      box-shadow: 0px 1px 3px 1px rgba(0, 0, 0, 0.15);\n",
              "      filter: drop-shadow(0px 1px 2px rgba(0, 0, 0, 0.3));\n",
              "      fill: #FFFFFF;\n",
              "    }\n",
              "  </style>\n",
              "\n",
              "    <script>\n",
              "      const buttonEl =\n",
              "        document.querySelector('#df-a6830ac0-3bd5-495a-94ea-e1b453db9f44 button.colab-df-convert');\n",
              "      buttonEl.style.display =\n",
              "        google.colab.kernel.accessAllowed ? 'block' : 'none';\n",
              "\n",
              "      async function convertToInteractive(key) {\n",
              "        const element = document.querySelector('#df-a6830ac0-3bd5-495a-94ea-e1b453db9f44');\n",
              "        const dataTable =\n",
              "          await google.colab.kernel.invokeFunction('convertToInteractive',\n",
              "                                                    [key], {});\n",
              "        if (!dataTable) return;\n",
              "\n",
              "        const docLinkHtml = 'Like what you see? Visit the ' +\n",
              "          '<a target=\"_blank\" href=https://colab.research.google.com/notebooks/data_table.ipynb>data table notebook</a>'\n",
              "          + ' to learn more about interactive tables.';\n",
              "        element.innerHTML = '';\n",
              "        dataTable['output_type'] = 'display_data';\n",
              "        await google.colab.output.renderOutput(dataTable, element);\n",
              "        const docLink = document.createElement('div');\n",
              "        docLink.innerHTML = docLinkHtml;\n",
              "        element.appendChild(docLink);\n",
              "      }\n",
              "    </script>\n",
              "  </div>\n",
              "\n",
              "\n",
              "<div id=\"df-27c61fee-2257-42ee-8297-663d0ac0bcee\">\n",
              "  <button class=\"colab-df-quickchart\" onclick=\"quickchart('df-27c61fee-2257-42ee-8297-663d0ac0bcee')\"\n",
              "            title=\"Suggest charts.\"\n",
              "            style=\"display:none;\">\n",
              "\n",
              "<svg xmlns=\"http://www.w3.org/2000/svg\" height=\"24px\"viewBox=\"0 0 24 24\"\n",
              "     width=\"24px\">\n",
              "    <g>\n",
              "        <path d=\"M19 3H5c-1.1 0-2 .9-2 2v14c0 1.1.9 2 2 2h14c1.1 0 2-.9 2-2V5c0-1.1-.9-2-2-2zM9 17H7v-7h2v7zm4 0h-2V7h2v10zm4 0h-2v-4h2v4z\"/>\n",
              "    </g>\n",
              "</svg>\n",
              "  </button>\n",
              "\n",
              "<style>\n",
              "  .colab-df-quickchart {\n",
              "      --bg-color: #E8F0FE;\n",
              "      --fill-color: #1967D2;\n",
              "      --hover-bg-color: #E2EBFA;\n",
              "      --hover-fill-color: #174EA6;\n",
              "      --disabled-fill-color: #AAA;\n",
              "      --disabled-bg-color: #DDD;\n",
              "  }\n",
              "\n",
              "  [theme=dark] .colab-df-quickchart {\n",
              "      --bg-color: #3B4455;\n",
              "      --fill-color: #D2E3FC;\n",
              "      --hover-bg-color: #434B5C;\n",
              "      --hover-fill-color: #FFFFFF;\n",
              "      --disabled-bg-color: #3B4455;\n",
              "      --disabled-fill-color: #666;\n",
              "  }\n",
              "\n",
              "  .colab-df-quickchart {\n",
              "    background-color: var(--bg-color);\n",
              "    border: none;\n",
              "    border-radius: 50%;\n",
              "    cursor: pointer;\n",
              "    display: none;\n",
              "    fill: var(--fill-color);\n",
              "    height: 32px;\n",
              "    padding: 0;\n",
              "    width: 32px;\n",
              "  }\n",
              "\n",
              "  .colab-df-quickchart:hover {\n",
              "    background-color: var(--hover-bg-color);\n",
              "    box-shadow: 0 1px 2px rgba(60, 64, 67, 0.3), 0 1px 3px 1px rgba(60, 64, 67, 0.15);\n",
              "    fill: var(--button-hover-fill-color);\n",
              "  }\n",
              "\n",
              "  .colab-df-quickchart-complete:disabled,\n",
              "  .colab-df-quickchart-complete:disabled:hover {\n",
              "    background-color: var(--disabled-bg-color);\n",
              "    fill: var(--disabled-fill-color);\n",
              "    box-shadow: none;\n",
              "  }\n",
              "\n",
              "  .colab-df-spinner {\n",
              "    border: 2px solid var(--fill-color);\n",
              "    border-color: transparent;\n",
              "    border-bottom-color: var(--fill-color);\n",
              "    animation:\n",
              "      spin 1s steps(1) infinite;\n",
              "  }\n",
              "\n",
              "  @keyframes spin {\n",
              "    0% {\n",
              "      border-color: transparent;\n",
              "      border-bottom-color: var(--fill-color);\n",
              "      border-left-color: var(--fill-color);\n",
              "    }\n",
              "    20% {\n",
              "      border-color: transparent;\n",
              "      border-left-color: var(--fill-color);\n",
              "      border-top-color: var(--fill-color);\n",
              "    }\n",
              "    30% {\n",
              "      border-color: transparent;\n",
              "      border-left-color: var(--fill-color);\n",
              "      border-top-color: var(--fill-color);\n",
              "      border-right-color: var(--fill-color);\n",
              "    }\n",
              "    40% {\n",
              "      border-color: transparent;\n",
              "      border-right-color: var(--fill-color);\n",
              "      border-top-color: var(--fill-color);\n",
              "    }\n",
              "    60% {\n",
              "      border-color: transparent;\n",
              "      border-right-color: var(--fill-color);\n",
              "    }\n",
              "    80% {\n",
              "      border-color: transparent;\n",
              "      border-right-color: var(--fill-color);\n",
              "      border-bottom-color: var(--fill-color);\n",
              "    }\n",
              "    90% {\n",
              "      border-color: transparent;\n",
              "      border-bottom-color: var(--fill-color);\n",
              "    }\n",
              "  }\n",
              "</style>\n",
              "\n",
              "  <script>\n",
              "    async function quickchart(key) {\n",
              "      const quickchartButtonEl =\n",
              "        document.querySelector('#' + key + ' button');\n",
              "      quickchartButtonEl.disabled = true;  // To prevent multiple clicks.\n",
              "      quickchartButtonEl.classList.add('colab-df-spinner');\n",
              "      try {\n",
              "        const charts = await google.colab.kernel.invokeFunction(\n",
              "            'suggestCharts', [key], {});\n",
              "      } catch (error) {\n",
              "        console.error('Error during call to suggestCharts:', error);\n",
              "      }\n",
              "      quickchartButtonEl.classList.remove('colab-df-spinner');\n",
              "      quickchartButtonEl.classList.add('colab-df-quickchart-complete');\n",
              "    }\n",
              "    (() => {\n",
              "      let quickchartButtonEl =\n",
              "        document.querySelector('#df-27c61fee-2257-42ee-8297-663d0ac0bcee button');\n",
              "      quickchartButtonEl.style.display =\n",
              "        google.colab.kernel.accessAllowed ? 'block' : 'none';\n",
              "    })();\n",
              "  </script>\n",
              "</div>\n",
              "    </div>\n",
              "  </div>\n"
            ]
          },
          "metadata": {},
          "execution_count": 2
        }
      ]
    },
    {
      "cell_type": "markdown",
      "metadata": {
        "id": "brxgByKTQOVz"
      },
      "source": [
        "First let's check out what datatypes we have in our dataset. If the data types are not what we expect, we could run into problems with our preprocessing and later on with our training."
      ]
    },
    {
      "cell_type": "code",
      "metadata": {
        "id": "djIagM3nQup0",
        "colab": {
          "base_uri": "https://localhost:8080/"
        },
        "outputId": "1a6a8cf3-176b-442e-b71c-f4ecafe654ca"
      },
      "source": [
        "data.dtypes"
      ],
      "execution_count": null,
      "outputs": [
        {
          "output_type": "execute_result",
          "data": {
            "text/plain": [
              "Product ID                  object\n",
              "Type                        object\n",
              "Air temperature [K]        float64\n",
              "Process temperature [K]    float64\n",
              "Rotational speed [rpm]       int64\n",
              "Torque [Nm]                float64\n",
              "Tool wear [min]              int64\n",
              "Machine failure              int64\n",
              "TWF                          int64\n",
              "HDF                          int64\n",
              "PWF                          int64\n",
              "OSF                          int64\n",
              "RNF                          int64\n",
              "dtype: object"
            ]
          },
          "metadata": {},
          "execution_count": 3
        }
      ]
    },
    {
      "cell_type": "markdown",
      "metadata": {
        "id": "vBcVGv6zOCgX"
      },
      "source": [
        "In general, you can't provide text input to a ML model. This is a problem since two of our categories (Product ID and Type) are text based as shown by their `object` data type above. Luckily, it is pretty easy with Numpy to turn all this text into numbers which we will see in a little bit. We are only going to do this for Type as the Product ID column just restates inforation already available in the other columns so we will be removing it using the `pop` command. We are also going to remove the failure type columns as we are only interested in predicting failure in general, not by type, for this problem."
      ]
    },
    {
      "cell_type": "code",
      "metadata": {
        "id": "A0Fk59xQUJal",
        "colab": {
          "base_uri": "https://localhost:8080/"
        },
        "outputId": "4558750c-6f74-4e10-f8ca-8a57f4c5f7e6"
      },
      "source": [
        "# categorical columns\n",
        "data.pop('Product ID')\n",
        "product_type = data.pop('Type')\n",
        "\n",
        "# failure type columns\n",
        "data.pop('TWF')\n",
        "data.pop('HDF')\n",
        "data.pop('PWF')\n",
        "data.pop('OSF')\n",
        "data.pop('RNF')\n",
        "\n",
        "print(\"Done\")"
      ],
      "execution_count": null,
      "outputs": [
        {
          "output_type": "stream",
          "name": "stdout",
          "text": [
            "Done\n"
          ]
        }
      ]
    },
    {
      "cell_type": "markdown",
      "metadata": {
        "id": "4jOsZ1FWWrMa"
      },
      "source": [
        "Here we check our work and see that the only columns left in data are numerical."
      ]
    },
    {
      "cell_type": "code",
      "metadata": {
        "id": "w71cG3LHWgHF",
        "colab": {
          "base_uri": "https://localhost:8080/",
          "height": 455
        },
        "outputId": "e8c60182-9934-4b53-9745-82ef4ab88139"
      },
      "source": [
        "data"
      ],
      "execution_count": null,
      "outputs": [
        {
          "output_type": "execute_result",
          "data": {
            "text/plain": [
              "       Air temperature [K]  Process temperature [K]  Rotational speed [rpm]  \\\n",
              "UDI                                                                           \n",
              "1                    298.1                    308.6                    1551   \n",
              "2                    298.2                    308.7                    1408   \n",
              "3                    298.1                    308.5                    1498   \n",
              "4                    298.2                    308.6                    1433   \n",
              "5                    298.2                    308.7                    1408   \n",
              "...                    ...                      ...                     ...   \n",
              "9996                 298.8                    308.4                    1604   \n",
              "9997                 298.9                    308.4                    1632   \n",
              "9998                 299.0                    308.6                    1645   \n",
              "9999                 299.0                    308.7                    1408   \n",
              "10000                299.0                    308.7                    1500   \n",
              "\n",
              "       Torque [Nm]  Tool wear [min]  Machine failure  \n",
              "UDI                                                   \n",
              "1             42.8                0                0  \n",
              "2             46.3                3                0  \n",
              "3             49.4                5                0  \n",
              "4             39.5                7                0  \n",
              "5             40.0                9                0  \n",
              "...            ...              ...              ...  \n",
              "9996          29.5               14                0  \n",
              "9997          31.8               17                0  \n",
              "9998          33.4               22                0  \n",
              "9999          48.5               25                0  \n",
              "10000         40.2               30                0  \n",
              "\n",
              "[10000 rows x 6 columns]"
            ],
            "text/html": [
              "\n",
              "  <div id=\"df-b08a3dc8-4998-428d-b882-44f0d740c7ba\" class=\"colab-df-container\">\n",
              "    <div>\n",
              "<style scoped>\n",
              "    .dataframe tbody tr th:only-of-type {\n",
              "        vertical-align: middle;\n",
              "    }\n",
              "\n",
              "    .dataframe tbody tr th {\n",
              "        vertical-align: top;\n",
              "    }\n",
              "\n",
              "    .dataframe thead th {\n",
              "        text-align: right;\n",
              "    }\n",
              "</style>\n",
              "<table border=\"1\" class=\"dataframe\">\n",
              "  <thead>\n",
              "    <tr style=\"text-align: right;\">\n",
              "      <th></th>\n",
              "      <th>Air temperature [K]</th>\n",
              "      <th>Process temperature [K]</th>\n",
              "      <th>Rotational speed [rpm]</th>\n",
              "      <th>Torque [Nm]</th>\n",
              "      <th>Tool wear [min]</th>\n",
              "      <th>Machine failure</th>\n",
              "    </tr>\n",
              "    <tr>\n",
              "      <th>UDI</th>\n",
              "      <th></th>\n",
              "      <th></th>\n",
              "      <th></th>\n",
              "      <th></th>\n",
              "      <th></th>\n",
              "      <th></th>\n",
              "    </tr>\n",
              "  </thead>\n",
              "  <tbody>\n",
              "    <tr>\n",
              "      <th>1</th>\n",
              "      <td>298.1</td>\n",
              "      <td>308.6</td>\n",
              "      <td>1551</td>\n",
              "      <td>42.8</td>\n",
              "      <td>0</td>\n",
              "      <td>0</td>\n",
              "    </tr>\n",
              "    <tr>\n",
              "      <th>2</th>\n",
              "      <td>298.2</td>\n",
              "      <td>308.7</td>\n",
              "      <td>1408</td>\n",
              "      <td>46.3</td>\n",
              "      <td>3</td>\n",
              "      <td>0</td>\n",
              "    </tr>\n",
              "    <tr>\n",
              "      <th>3</th>\n",
              "      <td>298.1</td>\n",
              "      <td>308.5</td>\n",
              "      <td>1498</td>\n",
              "      <td>49.4</td>\n",
              "      <td>5</td>\n",
              "      <td>0</td>\n",
              "    </tr>\n",
              "    <tr>\n",
              "      <th>4</th>\n",
              "      <td>298.2</td>\n",
              "      <td>308.6</td>\n",
              "      <td>1433</td>\n",
              "      <td>39.5</td>\n",
              "      <td>7</td>\n",
              "      <td>0</td>\n",
              "    </tr>\n",
              "    <tr>\n",
              "      <th>5</th>\n",
              "      <td>298.2</td>\n",
              "      <td>308.7</td>\n",
              "      <td>1408</td>\n",
              "      <td>40.0</td>\n",
              "      <td>9</td>\n",
              "      <td>0</td>\n",
              "    </tr>\n",
              "    <tr>\n",
              "      <th>...</th>\n",
              "      <td>...</td>\n",
              "      <td>...</td>\n",
              "      <td>...</td>\n",
              "      <td>...</td>\n",
              "      <td>...</td>\n",
              "      <td>...</td>\n",
              "    </tr>\n",
              "    <tr>\n",
              "      <th>9996</th>\n",
              "      <td>298.8</td>\n",
              "      <td>308.4</td>\n",
              "      <td>1604</td>\n",
              "      <td>29.5</td>\n",
              "      <td>14</td>\n",
              "      <td>0</td>\n",
              "    </tr>\n",
              "    <tr>\n",
              "      <th>9997</th>\n",
              "      <td>298.9</td>\n",
              "      <td>308.4</td>\n",
              "      <td>1632</td>\n",
              "      <td>31.8</td>\n",
              "      <td>17</td>\n",
              "      <td>0</td>\n",
              "    </tr>\n",
              "    <tr>\n",
              "      <th>9998</th>\n",
              "      <td>299.0</td>\n",
              "      <td>308.6</td>\n",
              "      <td>1645</td>\n",
              "      <td>33.4</td>\n",
              "      <td>22</td>\n",
              "      <td>0</td>\n",
              "    </tr>\n",
              "    <tr>\n",
              "      <th>9999</th>\n",
              "      <td>299.0</td>\n",
              "      <td>308.7</td>\n",
              "      <td>1408</td>\n",
              "      <td>48.5</td>\n",
              "      <td>25</td>\n",
              "      <td>0</td>\n",
              "    </tr>\n",
              "    <tr>\n",
              "      <th>10000</th>\n",
              "      <td>299.0</td>\n",
              "      <td>308.7</td>\n",
              "      <td>1500</td>\n",
              "      <td>40.2</td>\n",
              "      <td>30</td>\n",
              "      <td>0</td>\n",
              "    </tr>\n",
              "  </tbody>\n",
              "</table>\n",
              "<p>10000 rows × 6 columns</p>\n",
              "</div>\n",
              "    <div class=\"colab-df-buttons\">\n",
              "\n",
              "  <div class=\"colab-df-container\">\n",
              "    <button class=\"colab-df-convert\" onclick=\"convertToInteractive('df-b08a3dc8-4998-428d-b882-44f0d740c7ba')\"\n",
              "            title=\"Convert this dataframe to an interactive table.\"\n",
              "            style=\"display:none;\">\n",
              "\n",
              "  <svg xmlns=\"http://www.w3.org/2000/svg\" height=\"24px\" viewBox=\"0 -960 960 960\">\n",
              "    <path d=\"M120-120v-720h720v720H120Zm60-500h600v-160H180v160Zm220 220h160v-160H400v160Zm0 220h160v-160H400v160ZM180-400h160v-160H180v160Zm440 0h160v-160H620v160ZM180-180h160v-160H180v160Zm440 0h160v-160H620v160Z\"/>\n",
              "  </svg>\n",
              "    </button>\n",
              "\n",
              "  <style>\n",
              "    .colab-df-container {\n",
              "      display:flex;\n",
              "      gap: 12px;\n",
              "    }\n",
              "\n",
              "    .colab-df-convert {\n",
              "      background-color: #E8F0FE;\n",
              "      border: none;\n",
              "      border-radius: 50%;\n",
              "      cursor: pointer;\n",
              "      display: none;\n",
              "      fill: #1967D2;\n",
              "      height: 32px;\n",
              "      padding: 0 0 0 0;\n",
              "      width: 32px;\n",
              "    }\n",
              "\n",
              "    .colab-df-convert:hover {\n",
              "      background-color: #E2EBFA;\n",
              "      box-shadow: 0px 1px 2px rgba(60, 64, 67, 0.3), 0px 1px 3px 1px rgba(60, 64, 67, 0.15);\n",
              "      fill: #174EA6;\n",
              "    }\n",
              "\n",
              "    .colab-df-buttons div {\n",
              "      margin-bottom: 4px;\n",
              "    }\n",
              "\n",
              "    [theme=dark] .colab-df-convert {\n",
              "      background-color: #3B4455;\n",
              "      fill: #D2E3FC;\n",
              "    }\n",
              "\n",
              "    [theme=dark] .colab-df-convert:hover {\n",
              "      background-color: #434B5C;\n",
              "      box-shadow: 0px 1px 3px 1px rgba(0, 0, 0, 0.15);\n",
              "      filter: drop-shadow(0px 1px 2px rgba(0, 0, 0, 0.3));\n",
              "      fill: #FFFFFF;\n",
              "    }\n",
              "  </style>\n",
              "\n",
              "    <script>\n",
              "      const buttonEl =\n",
              "        document.querySelector('#df-b08a3dc8-4998-428d-b882-44f0d740c7ba button.colab-df-convert');\n",
              "      buttonEl.style.display =\n",
              "        google.colab.kernel.accessAllowed ? 'block' : 'none';\n",
              "\n",
              "      async function convertToInteractive(key) {\n",
              "        const element = document.querySelector('#df-b08a3dc8-4998-428d-b882-44f0d740c7ba');\n",
              "        const dataTable =\n",
              "          await google.colab.kernel.invokeFunction('convertToInteractive',\n",
              "                                                    [key], {});\n",
              "        if (!dataTable) return;\n",
              "\n",
              "        const docLinkHtml = 'Like what you see? Visit the ' +\n",
              "          '<a target=\"_blank\" href=https://colab.research.google.com/notebooks/data_table.ipynb>data table notebook</a>'\n",
              "          + ' to learn more about interactive tables.';\n",
              "        element.innerHTML = '';\n",
              "        dataTable['output_type'] = 'display_data';\n",
              "        await google.colab.output.renderOutput(dataTable, element);\n",
              "        const docLink = document.createElement('div');\n",
              "        docLink.innerHTML = docLinkHtml;\n",
              "        element.appendChild(docLink);\n",
              "      }\n",
              "    </script>\n",
              "  </div>\n",
              "\n",
              "\n",
              "<div id=\"df-2e4d8962-b8a4-49be-9dbb-ece87d5ecade\">\n",
              "  <button class=\"colab-df-quickchart\" onclick=\"quickchart('df-2e4d8962-b8a4-49be-9dbb-ece87d5ecade')\"\n",
              "            title=\"Suggest charts.\"\n",
              "            style=\"display:none;\">\n",
              "\n",
              "<svg xmlns=\"http://www.w3.org/2000/svg\" height=\"24px\"viewBox=\"0 0 24 24\"\n",
              "     width=\"24px\">\n",
              "    <g>\n",
              "        <path d=\"M19 3H5c-1.1 0-2 .9-2 2v14c0 1.1.9 2 2 2h14c1.1 0 2-.9 2-2V5c0-1.1-.9-2-2-2zM9 17H7v-7h2v7zm4 0h-2V7h2v10zm4 0h-2v-4h2v4z\"/>\n",
              "    </g>\n",
              "</svg>\n",
              "  </button>\n",
              "\n",
              "<style>\n",
              "  .colab-df-quickchart {\n",
              "      --bg-color: #E8F0FE;\n",
              "      --fill-color: #1967D2;\n",
              "      --hover-bg-color: #E2EBFA;\n",
              "      --hover-fill-color: #174EA6;\n",
              "      --disabled-fill-color: #AAA;\n",
              "      --disabled-bg-color: #DDD;\n",
              "  }\n",
              "\n",
              "  [theme=dark] .colab-df-quickchart {\n",
              "      --bg-color: #3B4455;\n",
              "      --fill-color: #D2E3FC;\n",
              "      --hover-bg-color: #434B5C;\n",
              "      --hover-fill-color: #FFFFFF;\n",
              "      --disabled-bg-color: #3B4455;\n",
              "      --disabled-fill-color: #666;\n",
              "  }\n",
              "\n",
              "  .colab-df-quickchart {\n",
              "    background-color: var(--bg-color);\n",
              "    border: none;\n",
              "    border-radius: 50%;\n",
              "    cursor: pointer;\n",
              "    display: none;\n",
              "    fill: var(--fill-color);\n",
              "    height: 32px;\n",
              "    padding: 0;\n",
              "    width: 32px;\n",
              "  }\n",
              "\n",
              "  .colab-df-quickchart:hover {\n",
              "    background-color: var(--hover-bg-color);\n",
              "    box-shadow: 0 1px 2px rgba(60, 64, 67, 0.3), 0 1px 3px 1px rgba(60, 64, 67, 0.15);\n",
              "    fill: var(--button-hover-fill-color);\n",
              "  }\n",
              "\n",
              "  .colab-df-quickchart-complete:disabled,\n",
              "  .colab-df-quickchart-complete:disabled:hover {\n",
              "    background-color: var(--disabled-bg-color);\n",
              "    fill: var(--disabled-fill-color);\n",
              "    box-shadow: none;\n",
              "  }\n",
              "\n",
              "  .colab-df-spinner {\n",
              "    border: 2px solid var(--fill-color);\n",
              "    border-color: transparent;\n",
              "    border-bottom-color: var(--fill-color);\n",
              "    animation:\n",
              "      spin 1s steps(1) infinite;\n",
              "  }\n",
              "\n",
              "  @keyframes spin {\n",
              "    0% {\n",
              "      border-color: transparent;\n",
              "      border-bottom-color: var(--fill-color);\n",
              "      border-left-color: var(--fill-color);\n",
              "    }\n",
              "    20% {\n",
              "      border-color: transparent;\n",
              "      border-left-color: var(--fill-color);\n",
              "      border-top-color: var(--fill-color);\n",
              "    }\n",
              "    30% {\n",
              "      border-color: transparent;\n",
              "      border-left-color: var(--fill-color);\n",
              "      border-top-color: var(--fill-color);\n",
              "      border-right-color: var(--fill-color);\n",
              "    }\n",
              "    40% {\n",
              "      border-color: transparent;\n",
              "      border-right-color: var(--fill-color);\n",
              "      border-top-color: var(--fill-color);\n",
              "    }\n",
              "    60% {\n",
              "      border-color: transparent;\n",
              "      border-right-color: var(--fill-color);\n",
              "    }\n",
              "    80% {\n",
              "      border-color: transparent;\n",
              "      border-right-color: var(--fill-color);\n",
              "      border-bottom-color: var(--fill-color);\n",
              "    }\n",
              "    90% {\n",
              "      border-color: transparent;\n",
              "      border-bottom-color: var(--fill-color);\n",
              "    }\n",
              "  }\n",
              "</style>\n",
              "\n",
              "  <script>\n",
              "    async function quickchart(key) {\n",
              "      const quickchartButtonEl =\n",
              "        document.querySelector('#' + key + ' button');\n",
              "      quickchartButtonEl.disabled = true;  // To prevent multiple clicks.\n",
              "      quickchartButtonEl.classList.add('colab-df-spinner');\n",
              "      try {\n",
              "        const charts = await google.colab.kernel.invokeFunction(\n",
              "            'suggestCharts', [key], {});\n",
              "      } catch (error) {\n",
              "        console.error('Error during call to suggestCharts:', error);\n",
              "      }\n",
              "      quickchartButtonEl.classList.remove('colab-df-spinner');\n",
              "      quickchartButtonEl.classList.add('colab-df-quickchart-complete');\n",
              "    }\n",
              "    (() => {\n",
              "      let quickchartButtonEl =\n",
              "        document.querySelector('#df-2e4d8962-b8a4-49be-9dbb-ece87d5ecade button');\n",
              "      quickchartButtonEl.style.display =\n",
              "        google.colab.kernel.accessAllowed ? 'block' : 'none';\n",
              "    })();\n",
              "  </script>\n",
              "</div>\n",
              "    </div>\n",
              "  </div>\n"
            ]
          },
          "metadata": {},
          "execution_count": 5
        }
      ]
    },
    {
      "cell_type": "markdown",
      "metadata": {
        "id": "ZfGMLleWWwOk"
      },
      "source": [
        "Now let's perform our one-hot encoding for the one categorical column that we are interested in keeping."
      ]
    },
    {
      "cell_type": "code",
      "metadata": {
        "id": "Dh6Wy8riW1dr",
        "colab": {
          "base_uri": "https://localhost:8080/"
        },
        "outputId": "602b8b74-1175-4de1-b459-66948cc60cbe"
      },
      "source": [
        "oh_type = pd.get_dummies(product_type)\n",
        "\n",
        "print(\"Done\")"
      ],
      "execution_count": null,
      "outputs": [
        {
          "output_type": "stream",
          "name": "stdout",
          "text": [
            "Done\n"
          ]
        }
      ]
    },
    {
      "cell_type": "markdown",
      "metadata": {
        "id": "ggUI_08xXhRH"
      },
      "source": [
        "And finally we reappend these new one-hot encoded column back onto our original dataframe"
      ]
    },
    {
      "cell_type": "code",
      "metadata": {
        "id": "QKBUaWlBXm44",
        "colab": {
          "base_uri": "https://localhost:8080/",
          "height": 455
        },
        "outputId": "39a833ae-f24f-4b1d-ae13-92d87a64a5ca"
      },
      "source": [
        "processed_data = pd.concat([data, oh_type], axis=1)\n",
        "processed_data"
      ],
      "execution_count": null,
      "outputs": [
        {
          "output_type": "execute_result",
          "data": {
            "text/plain": [
              "       Air temperature [K]  Process temperature [K]  Rotational speed [rpm]  \\\n",
              "UDI                                                                           \n",
              "1                    298.1                    308.6                    1551   \n",
              "2                    298.2                    308.7                    1408   \n",
              "3                    298.1                    308.5                    1498   \n",
              "4                    298.2                    308.6                    1433   \n",
              "5                    298.2                    308.7                    1408   \n",
              "...                    ...                      ...                     ...   \n",
              "9996                 298.8                    308.4                    1604   \n",
              "9997                 298.9                    308.4                    1632   \n",
              "9998                 299.0                    308.6                    1645   \n",
              "9999                 299.0                    308.7                    1408   \n",
              "10000                299.0                    308.7                    1500   \n",
              "\n",
              "       Torque [Nm]  Tool wear [min]  Machine failure  H  L  M  \n",
              "UDI                                                            \n",
              "1             42.8                0                0  0  0  1  \n",
              "2             46.3                3                0  0  1  0  \n",
              "3             49.4                5                0  0  1  0  \n",
              "4             39.5                7                0  0  1  0  \n",
              "5             40.0                9                0  0  1  0  \n",
              "...            ...              ...              ... .. .. ..  \n",
              "9996          29.5               14                0  0  0  1  \n",
              "9997          31.8               17                0  1  0  0  \n",
              "9998          33.4               22                0  0  0  1  \n",
              "9999          48.5               25                0  1  0  0  \n",
              "10000         40.2               30                0  0  0  1  \n",
              "\n",
              "[10000 rows x 9 columns]"
            ],
            "text/html": [
              "\n",
              "  <div id=\"df-62f59124-93ec-4ee8-8e3a-4d09b67f7fc5\" class=\"colab-df-container\">\n",
              "    <div>\n",
              "<style scoped>\n",
              "    .dataframe tbody tr th:only-of-type {\n",
              "        vertical-align: middle;\n",
              "    }\n",
              "\n",
              "    .dataframe tbody tr th {\n",
              "        vertical-align: top;\n",
              "    }\n",
              "\n",
              "    .dataframe thead th {\n",
              "        text-align: right;\n",
              "    }\n",
              "</style>\n",
              "<table border=\"1\" class=\"dataframe\">\n",
              "  <thead>\n",
              "    <tr style=\"text-align: right;\">\n",
              "      <th></th>\n",
              "      <th>Air temperature [K]</th>\n",
              "      <th>Process temperature [K]</th>\n",
              "      <th>Rotational speed [rpm]</th>\n",
              "      <th>Torque [Nm]</th>\n",
              "      <th>Tool wear [min]</th>\n",
              "      <th>Machine failure</th>\n",
              "      <th>H</th>\n",
              "      <th>L</th>\n",
              "      <th>M</th>\n",
              "    </tr>\n",
              "    <tr>\n",
              "      <th>UDI</th>\n",
              "      <th></th>\n",
              "      <th></th>\n",
              "      <th></th>\n",
              "      <th></th>\n",
              "      <th></th>\n",
              "      <th></th>\n",
              "      <th></th>\n",
              "      <th></th>\n",
              "      <th></th>\n",
              "    </tr>\n",
              "  </thead>\n",
              "  <tbody>\n",
              "    <tr>\n",
              "      <th>1</th>\n",
              "      <td>298.1</td>\n",
              "      <td>308.6</td>\n",
              "      <td>1551</td>\n",
              "      <td>42.8</td>\n",
              "      <td>0</td>\n",
              "      <td>0</td>\n",
              "      <td>0</td>\n",
              "      <td>0</td>\n",
              "      <td>1</td>\n",
              "    </tr>\n",
              "    <tr>\n",
              "      <th>2</th>\n",
              "      <td>298.2</td>\n",
              "      <td>308.7</td>\n",
              "      <td>1408</td>\n",
              "      <td>46.3</td>\n",
              "      <td>3</td>\n",
              "      <td>0</td>\n",
              "      <td>0</td>\n",
              "      <td>1</td>\n",
              "      <td>0</td>\n",
              "    </tr>\n",
              "    <tr>\n",
              "      <th>3</th>\n",
              "      <td>298.1</td>\n",
              "      <td>308.5</td>\n",
              "      <td>1498</td>\n",
              "      <td>49.4</td>\n",
              "      <td>5</td>\n",
              "      <td>0</td>\n",
              "      <td>0</td>\n",
              "      <td>1</td>\n",
              "      <td>0</td>\n",
              "    </tr>\n",
              "    <tr>\n",
              "      <th>4</th>\n",
              "      <td>298.2</td>\n",
              "      <td>308.6</td>\n",
              "      <td>1433</td>\n",
              "      <td>39.5</td>\n",
              "      <td>7</td>\n",
              "      <td>0</td>\n",
              "      <td>0</td>\n",
              "      <td>1</td>\n",
              "      <td>0</td>\n",
              "    </tr>\n",
              "    <tr>\n",
              "      <th>5</th>\n",
              "      <td>298.2</td>\n",
              "      <td>308.7</td>\n",
              "      <td>1408</td>\n",
              "      <td>40.0</td>\n",
              "      <td>9</td>\n",
              "      <td>0</td>\n",
              "      <td>0</td>\n",
              "      <td>1</td>\n",
              "      <td>0</td>\n",
              "    </tr>\n",
              "    <tr>\n",
              "      <th>...</th>\n",
              "      <td>...</td>\n",
              "      <td>...</td>\n",
              "      <td>...</td>\n",
              "      <td>...</td>\n",
              "      <td>...</td>\n",
              "      <td>...</td>\n",
              "      <td>...</td>\n",
              "      <td>...</td>\n",
              "      <td>...</td>\n",
              "    </tr>\n",
              "    <tr>\n",
              "      <th>9996</th>\n",
              "      <td>298.8</td>\n",
              "      <td>308.4</td>\n",
              "      <td>1604</td>\n",
              "      <td>29.5</td>\n",
              "      <td>14</td>\n",
              "      <td>0</td>\n",
              "      <td>0</td>\n",
              "      <td>0</td>\n",
              "      <td>1</td>\n",
              "    </tr>\n",
              "    <tr>\n",
              "      <th>9997</th>\n",
              "      <td>298.9</td>\n",
              "      <td>308.4</td>\n",
              "      <td>1632</td>\n",
              "      <td>31.8</td>\n",
              "      <td>17</td>\n",
              "      <td>0</td>\n",
              "      <td>1</td>\n",
              "      <td>0</td>\n",
              "      <td>0</td>\n",
              "    </tr>\n",
              "    <tr>\n",
              "      <th>9998</th>\n",
              "      <td>299.0</td>\n",
              "      <td>308.6</td>\n",
              "      <td>1645</td>\n",
              "      <td>33.4</td>\n",
              "      <td>22</td>\n",
              "      <td>0</td>\n",
              "      <td>0</td>\n",
              "      <td>0</td>\n",
              "      <td>1</td>\n",
              "    </tr>\n",
              "    <tr>\n",
              "      <th>9999</th>\n",
              "      <td>299.0</td>\n",
              "      <td>308.7</td>\n",
              "      <td>1408</td>\n",
              "      <td>48.5</td>\n",
              "      <td>25</td>\n",
              "      <td>0</td>\n",
              "      <td>1</td>\n",
              "      <td>0</td>\n",
              "      <td>0</td>\n",
              "    </tr>\n",
              "    <tr>\n",
              "      <th>10000</th>\n",
              "      <td>299.0</td>\n",
              "      <td>308.7</td>\n",
              "      <td>1500</td>\n",
              "      <td>40.2</td>\n",
              "      <td>30</td>\n",
              "      <td>0</td>\n",
              "      <td>0</td>\n",
              "      <td>0</td>\n",
              "      <td>1</td>\n",
              "    </tr>\n",
              "  </tbody>\n",
              "</table>\n",
              "<p>10000 rows × 9 columns</p>\n",
              "</div>\n",
              "    <div class=\"colab-df-buttons\">\n",
              "\n",
              "  <div class=\"colab-df-container\">\n",
              "    <button class=\"colab-df-convert\" onclick=\"convertToInteractive('df-62f59124-93ec-4ee8-8e3a-4d09b67f7fc5')\"\n",
              "            title=\"Convert this dataframe to an interactive table.\"\n",
              "            style=\"display:none;\">\n",
              "\n",
              "  <svg xmlns=\"http://www.w3.org/2000/svg\" height=\"24px\" viewBox=\"0 -960 960 960\">\n",
              "    <path d=\"M120-120v-720h720v720H120Zm60-500h600v-160H180v160Zm220 220h160v-160H400v160Zm0 220h160v-160H400v160ZM180-400h160v-160H180v160Zm440 0h160v-160H620v160ZM180-180h160v-160H180v160Zm440 0h160v-160H620v160Z\"/>\n",
              "  </svg>\n",
              "    </button>\n",
              "\n",
              "  <style>\n",
              "    .colab-df-container {\n",
              "      display:flex;\n",
              "      gap: 12px;\n",
              "    }\n",
              "\n",
              "    .colab-df-convert {\n",
              "      background-color: #E8F0FE;\n",
              "      border: none;\n",
              "      border-radius: 50%;\n",
              "      cursor: pointer;\n",
              "      display: none;\n",
              "      fill: #1967D2;\n",
              "      height: 32px;\n",
              "      padding: 0 0 0 0;\n",
              "      width: 32px;\n",
              "    }\n",
              "\n",
              "    .colab-df-convert:hover {\n",
              "      background-color: #E2EBFA;\n",
              "      box-shadow: 0px 1px 2px rgba(60, 64, 67, 0.3), 0px 1px 3px 1px rgba(60, 64, 67, 0.15);\n",
              "      fill: #174EA6;\n",
              "    }\n",
              "\n",
              "    .colab-df-buttons div {\n",
              "      margin-bottom: 4px;\n",
              "    }\n",
              "\n",
              "    [theme=dark] .colab-df-convert {\n",
              "      background-color: #3B4455;\n",
              "      fill: #D2E3FC;\n",
              "    }\n",
              "\n",
              "    [theme=dark] .colab-df-convert:hover {\n",
              "      background-color: #434B5C;\n",
              "      box-shadow: 0px 1px 3px 1px rgba(0, 0, 0, 0.15);\n",
              "      filter: drop-shadow(0px 1px 2px rgba(0, 0, 0, 0.3));\n",
              "      fill: #FFFFFF;\n",
              "    }\n",
              "  </style>\n",
              "\n",
              "    <script>\n",
              "      const buttonEl =\n",
              "        document.querySelector('#df-62f59124-93ec-4ee8-8e3a-4d09b67f7fc5 button.colab-df-convert');\n",
              "      buttonEl.style.display =\n",
              "        google.colab.kernel.accessAllowed ? 'block' : 'none';\n",
              "\n",
              "      async function convertToInteractive(key) {\n",
              "        const element = document.querySelector('#df-62f59124-93ec-4ee8-8e3a-4d09b67f7fc5');\n",
              "        const dataTable =\n",
              "          await google.colab.kernel.invokeFunction('convertToInteractive',\n",
              "                                                    [key], {});\n",
              "        if (!dataTable) return;\n",
              "\n",
              "        const docLinkHtml = 'Like what you see? Visit the ' +\n",
              "          '<a target=\"_blank\" href=https://colab.research.google.com/notebooks/data_table.ipynb>data table notebook</a>'\n",
              "          + ' to learn more about interactive tables.';\n",
              "        element.innerHTML = '';\n",
              "        dataTable['output_type'] = 'display_data';\n",
              "        await google.colab.output.renderOutput(dataTable, element);\n",
              "        const docLink = document.createElement('div');\n",
              "        docLink.innerHTML = docLinkHtml;\n",
              "        element.appendChild(docLink);\n",
              "      }\n",
              "    </script>\n",
              "  </div>\n",
              "\n",
              "\n",
              "<div id=\"df-a9915317-b016-4547-8350-5cfaaf8b494a\">\n",
              "  <button class=\"colab-df-quickchart\" onclick=\"quickchart('df-a9915317-b016-4547-8350-5cfaaf8b494a')\"\n",
              "            title=\"Suggest charts.\"\n",
              "            style=\"display:none;\">\n",
              "\n",
              "<svg xmlns=\"http://www.w3.org/2000/svg\" height=\"24px\"viewBox=\"0 0 24 24\"\n",
              "     width=\"24px\">\n",
              "    <g>\n",
              "        <path d=\"M19 3H5c-1.1 0-2 .9-2 2v14c0 1.1.9 2 2 2h14c1.1 0 2-.9 2-2V5c0-1.1-.9-2-2-2zM9 17H7v-7h2v7zm4 0h-2V7h2v10zm4 0h-2v-4h2v4z\"/>\n",
              "    </g>\n",
              "</svg>\n",
              "  </button>\n",
              "\n",
              "<style>\n",
              "  .colab-df-quickchart {\n",
              "      --bg-color: #E8F0FE;\n",
              "      --fill-color: #1967D2;\n",
              "      --hover-bg-color: #E2EBFA;\n",
              "      --hover-fill-color: #174EA6;\n",
              "      --disabled-fill-color: #AAA;\n",
              "      --disabled-bg-color: #DDD;\n",
              "  }\n",
              "\n",
              "  [theme=dark] .colab-df-quickchart {\n",
              "      --bg-color: #3B4455;\n",
              "      --fill-color: #D2E3FC;\n",
              "      --hover-bg-color: #434B5C;\n",
              "      --hover-fill-color: #FFFFFF;\n",
              "      --disabled-bg-color: #3B4455;\n",
              "      --disabled-fill-color: #666;\n",
              "  }\n",
              "\n",
              "  .colab-df-quickchart {\n",
              "    background-color: var(--bg-color);\n",
              "    border: none;\n",
              "    border-radius: 50%;\n",
              "    cursor: pointer;\n",
              "    display: none;\n",
              "    fill: var(--fill-color);\n",
              "    height: 32px;\n",
              "    padding: 0;\n",
              "    width: 32px;\n",
              "  }\n",
              "\n",
              "  .colab-df-quickchart:hover {\n",
              "    background-color: var(--hover-bg-color);\n",
              "    box-shadow: 0 1px 2px rgba(60, 64, 67, 0.3), 0 1px 3px 1px rgba(60, 64, 67, 0.15);\n",
              "    fill: var(--button-hover-fill-color);\n",
              "  }\n",
              "\n",
              "  .colab-df-quickchart-complete:disabled,\n",
              "  .colab-df-quickchart-complete:disabled:hover {\n",
              "    background-color: var(--disabled-bg-color);\n",
              "    fill: var(--disabled-fill-color);\n",
              "    box-shadow: none;\n",
              "  }\n",
              "\n",
              "  .colab-df-spinner {\n",
              "    border: 2px solid var(--fill-color);\n",
              "    border-color: transparent;\n",
              "    border-bottom-color: var(--fill-color);\n",
              "    animation:\n",
              "      spin 1s steps(1) infinite;\n",
              "  }\n",
              "\n",
              "  @keyframes spin {\n",
              "    0% {\n",
              "      border-color: transparent;\n",
              "      border-bottom-color: var(--fill-color);\n",
              "      border-left-color: var(--fill-color);\n",
              "    }\n",
              "    20% {\n",
              "      border-color: transparent;\n",
              "      border-left-color: var(--fill-color);\n",
              "      border-top-color: var(--fill-color);\n",
              "    }\n",
              "    30% {\n",
              "      border-color: transparent;\n",
              "      border-left-color: var(--fill-color);\n",
              "      border-top-color: var(--fill-color);\n",
              "      border-right-color: var(--fill-color);\n",
              "    }\n",
              "    40% {\n",
              "      border-color: transparent;\n",
              "      border-right-color: var(--fill-color);\n",
              "      border-top-color: var(--fill-color);\n",
              "    }\n",
              "    60% {\n",
              "      border-color: transparent;\n",
              "      border-right-color: var(--fill-color);\n",
              "    }\n",
              "    80% {\n",
              "      border-color: transparent;\n",
              "      border-right-color: var(--fill-color);\n",
              "      border-bottom-color: var(--fill-color);\n",
              "    }\n",
              "    90% {\n",
              "      border-color: transparent;\n",
              "      border-bottom-color: var(--fill-color);\n",
              "    }\n",
              "  }\n",
              "</style>\n",
              "\n",
              "  <script>\n",
              "    async function quickchart(key) {\n",
              "      const quickchartButtonEl =\n",
              "        document.querySelector('#' + key + ' button');\n",
              "      quickchartButtonEl.disabled = true;  // To prevent multiple clicks.\n",
              "      quickchartButtonEl.classList.add('colab-df-spinner');\n",
              "      try {\n",
              "        const charts = await google.colab.kernel.invokeFunction(\n",
              "            'suggestCharts', [key], {});\n",
              "      } catch (error) {\n",
              "        console.error('Error during call to suggestCharts:', error);\n",
              "      }\n",
              "      quickchartButtonEl.classList.remove('colab-df-spinner');\n",
              "      quickchartButtonEl.classList.add('colab-df-quickchart-complete');\n",
              "    }\n",
              "    (() => {\n",
              "      let quickchartButtonEl =\n",
              "        document.querySelector('#df-a9915317-b016-4547-8350-5cfaaf8b494a button');\n",
              "      quickchartButtonEl.style.display =\n",
              "        google.colab.kernel.accessAllowed ? 'block' : 'none';\n",
              "    })();\n",
              "  </script>\n",
              "</div>\n",
              "    </div>\n",
              "  </div>\n"
            ]
          },
          "metadata": {},
          "execution_count": 7
        }
      ]
    },
    {
      "cell_type": "markdown",
      "metadata": {
        "id": "nh4XMDo-gETV"
      },
      "source": [
        "One last thing to check before we train. If any of the values are missing in our dataset, they will be listed as NaN (not a number) in our dataframe. When we go to train, our algorithm won't know what to do with these values so we are going to go ahead and remove any rows with missing values now. We should also check for and remove any duplicated columns as well."
      ]
    },
    {
      "cell_type": "code",
      "metadata": {
        "id": "aDkrtiSegTBg",
        "colab": {
          "base_uri": "https://localhost:8080/",
          "height": 455
        },
        "outputId": "990f9760-00b1-47e2-a5ca-6e6d4e2083ad"
      },
      "source": [
        "processed_data.dropna(inplace=True)\n",
        "processed_data = processed_data.loc[:,~processed_data.columns.duplicated()]\n",
        "processed_data"
      ],
      "execution_count": null,
      "outputs": [
        {
          "output_type": "execute_result",
          "data": {
            "text/plain": [
              "       Air temperature [K]  Process temperature [K]  Rotational speed [rpm]  \\\n",
              "UDI                                                                           \n",
              "1                    298.1                    308.6                    1551   \n",
              "2                    298.2                    308.7                    1408   \n",
              "3                    298.1                    308.5                    1498   \n",
              "4                    298.2                    308.6                    1433   \n",
              "5                    298.2                    308.7                    1408   \n",
              "...                    ...                      ...                     ...   \n",
              "9996                 298.8                    308.4                    1604   \n",
              "9997                 298.9                    308.4                    1632   \n",
              "9998                 299.0                    308.6                    1645   \n",
              "9999                 299.0                    308.7                    1408   \n",
              "10000                299.0                    308.7                    1500   \n",
              "\n",
              "       Torque [Nm]  Tool wear [min]  Machine failure  H  L  M  \n",
              "UDI                                                            \n",
              "1             42.8                0                0  0  0  1  \n",
              "2             46.3                3                0  0  1  0  \n",
              "3             49.4                5                0  0  1  0  \n",
              "4             39.5                7                0  0  1  0  \n",
              "5             40.0                9                0  0  1  0  \n",
              "...            ...              ...              ... .. .. ..  \n",
              "9996          29.5               14                0  0  0  1  \n",
              "9997          31.8               17                0  1  0  0  \n",
              "9998          33.4               22                0  0  0  1  \n",
              "9999          48.5               25                0  1  0  0  \n",
              "10000         40.2               30                0  0  0  1  \n",
              "\n",
              "[10000 rows x 9 columns]"
            ],
            "text/html": [
              "\n",
              "  <div id=\"df-a8f5692c-9ff3-4c67-85a7-5d50ff747558\" class=\"colab-df-container\">\n",
              "    <div>\n",
              "<style scoped>\n",
              "    .dataframe tbody tr th:only-of-type {\n",
              "        vertical-align: middle;\n",
              "    }\n",
              "\n",
              "    .dataframe tbody tr th {\n",
              "        vertical-align: top;\n",
              "    }\n",
              "\n",
              "    .dataframe thead th {\n",
              "        text-align: right;\n",
              "    }\n",
              "</style>\n",
              "<table border=\"1\" class=\"dataframe\">\n",
              "  <thead>\n",
              "    <tr style=\"text-align: right;\">\n",
              "      <th></th>\n",
              "      <th>Air temperature [K]</th>\n",
              "      <th>Process temperature [K]</th>\n",
              "      <th>Rotational speed [rpm]</th>\n",
              "      <th>Torque [Nm]</th>\n",
              "      <th>Tool wear [min]</th>\n",
              "      <th>Machine failure</th>\n",
              "      <th>H</th>\n",
              "      <th>L</th>\n",
              "      <th>M</th>\n",
              "    </tr>\n",
              "    <tr>\n",
              "      <th>UDI</th>\n",
              "      <th></th>\n",
              "      <th></th>\n",
              "      <th></th>\n",
              "      <th></th>\n",
              "      <th></th>\n",
              "      <th></th>\n",
              "      <th></th>\n",
              "      <th></th>\n",
              "      <th></th>\n",
              "    </tr>\n",
              "  </thead>\n",
              "  <tbody>\n",
              "    <tr>\n",
              "      <th>1</th>\n",
              "      <td>298.1</td>\n",
              "      <td>308.6</td>\n",
              "      <td>1551</td>\n",
              "      <td>42.8</td>\n",
              "      <td>0</td>\n",
              "      <td>0</td>\n",
              "      <td>0</td>\n",
              "      <td>0</td>\n",
              "      <td>1</td>\n",
              "    </tr>\n",
              "    <tr>\n",
              "      <th>2</th>\n",
              "      <td>298.2</td>\n",
              "      <td>308.7</td>\n",
              "      <td>1408</td>\n",
              "      <td>46.3</td>\n",
              "      <td>3</td>\n",
              "      <td>0</td>\n",
              "      <td>0</td>\n",
              "      <td>1</td>\n",
              "      <td>0</td>\n",
              "    </tr>\n",
              "    <tr>\n",
              "      <th>3</th>\n",
              "      <td>298.1</td>\n",
              "      <td>308.5</td>\n",
              "      <td>1498</td>\n",
              "      <td>49.4</td>\n",
              "      <td>5</td>\n",
              "      <td>0</td>\n",
              "      <td>0</td>\n",
              "      <td>1</td>\n",
              "      <td>0</td>\n",
              "    </tr>\n",
              "    <tr>\n",
              "      <th>4</th>\n",
              "      <td>298.2</td>\n",
              "      <td>308.6</td>\n",
              "      <td>1433</td>\n",
              "      <td>39.5</td>\n",
              "      <td>7</td>\n",
              "      <td>0</td>\n",
              "      <td>0</td>\n",
              "      <td>1</td>\n",
              "      <td>0</td>\n",
              "    </tr>\n",
              "    <tr>\n",
              "      <th>5</th>\n",
              "      <td>298.2</td>\n",
              "      <td>308.7</td>\n",
              "      <td>1408</td>\n",
              "      <td>40.0</td>\n",
              "      <td>9</td>\n",
              "      <td>0</td>\n",
              "      <td>0</td>\n",
              "      <td>1</td>\n",
              "      <td>0</td>\n",
              "    </tr>\n",
              "    <tr>\n",
              "      <th>...</th>\n",
              "      <td>...</td>\n",
              "      <td>...</td>\n",
              "      <td>...</td>\n",
              "      <td>...</td>\n",
              "      <td>...</td>\n",
              "      <td>...</td>\n",
              "      <td>...</td>\n",
              "      <td>...</td>\n",
              "      <td>...</td>\n",
              "    </tr>\n",
              "    <tr>\n",
              "      <th>9996</th>\n",
              "      <td>298.8</td>\n",
              "      <td>308.4</td>\n",
              "      <td>1604</td>\n",
              "      <td>29.5</td>\n",
              "      <td>14</td>\n",
              "      <td>0</td>\n",
              "      <td>0</td>\n",
              "      <td>0</td>\n",
              "      <td>1</td>\n",
              "    </tr>\n",
              "    <tr>\n",
              "      <th>9997</th>\n",
              "      <td>298.9</td>\n",
              "      <td>308.4</td>\n",
              "      <td>1632</td>\n",
              "      <td>31.8</td>\n",
              "      <td>17</td>\n",
              "      <td>0</td>\n",
              "      <td>1</td>\n",
              "      <td>0</td>\n",
              "      <td>0</td>\n",
              "    </tr>\n",
              "    <tr>\n",
              "      <th>9998</th>\n",
              "      <td>299.0</td>\n",
              "      <td>308.6</td>\n",
              "      <td>1645</td>\n",
              "      <td>33.4</td>\n",
              "      <td>22</td>\n",
              "      <td>0</td>\n",
              "      <td>0</td>\n",
              "      <td>0</td>\n",
              "      <td>1</td>\n",
              "    </tr>\n",
              "    <tr>\n",
              "      <th>9999</th>\n",
              "      <td>299.0</td>\n",
              "      <td>308.7</td>\n",
              "      <td>1408</td>\n",
              "      <td>48.5</td>\n",
              "      <td>25</td>\n",
              "      <td>0</td>\n",
              "      <td>1</td>\n",
              "      <td>0</td>\n",
              "      <td>0</td>\n",
              "    </tr>\n",
              "    <tr>\n",
              "      <th>10000</th>\n",
              "      <td>299.0</td>\n",
              "      <td>308.7</td>\n",
              "      <td>1500</td>\n",
              "      <td>40.2</td>\n",
              "      <td>30</td>\n",
              "      <td>0</td>\n",
              "      <td>0</td>\n",
              "      <td>0</td>\n",
              "      <td>1</td>\n",
              "    </tr>\n",
              "  </tbody>\n",
              "</table>\n",
              "<p>10000 rows × 9 columns</p>\n",
              "</div>\n",
              "    <div class=\"colab-df-buttons\">\n",
              "\n",
              "  <div class=\"colab-df-container\">\n",
              "    <button class=\"colab-df-convert\" onclick=\"convertToInteractive('df-a8f5692c-9ff3-4c67-85a7-5d50ff747558')\"\n",
              "            title=\"Convert this dataframe to an interactive table.\"\n",
              "            style=\"display:none;\">\n",
              "\n",
              "  <svg xmlns=\"http://www.w3.org/2000/svg\" height=\"24px\" viewBox=\"0 -960 960 960\">\n",
              "    <path d=\"M120-120v-720h720v720H120Zm60-500h600v-160H180v160Zm220 220h160v-160H400v160Zm0 220h160v-160H400v160ZM180-400h160v-160H180v160Zm440 0h160v-160H620v160ZM180-180h160v-160H180v160Zm440 0h160v-160H620v160Z\"/>\n",
              "  </svg>\n",
              "    </button>\n",
              "\n",
              "  <style>\n",
              "    .colab-df-container {\n",
              "      display:flex;\n",
              "      gap: 12px;\n",
              "    }\n",
              "\n",
              "    .colab-df-convert {\n",
              "      background-color: #E8F0FE;\n",
              "      border: none;\n",
              "      border-radius: 50%;\n",
              "      cursor: pointer;\n",
              "      display: none;\n",
              "      fill: #1967D2;\n",
              "      height: 32px;\n",
              "      padding: 0 0 0 0;\n",
              "      width: 32px;\n",
              "    }\n",
              "\n",
              "    .colab-df-convert:hover {\n",
              "      background-color: #E2EBFA;\n",
              "      box-shadow: 0px 1px 2px rgba(60, 64, 67, 0.3), 0px 1px 3px 1px rgba(60, 64, 67, 0.15);\n",
              "      fill: #174EA6;\n",
              "    }\n",
              "\n",
              "    .colab-df-buttons div {\n",
              "      margin-bottom: 4px;\n",
              "    }\n",
              "\n",
              "    [theme=dark] .colab-df-convert {\n",
              "      background-color: #3B4455;\n",
              "      fill: #D2E3FC;\n",
              "    }\n",
              "\n",
              "    [theme=dark] .colab-df-convert:hover {\n",
              "      background-color: #434B5C;\n",
              "      box-shadow: 0px 1px 3px 1px rgba(0, 0, 0, 0.15);\n",
              "      filter: drop-shadow(0px 1px 2px rgba(0, 0, 0, 0.3));\n",
              "      fill: #FFFFFF;\n",
              "    }\n",
              "  </style>\n",
              "\n",
              "    <script>\n",
              "      const buttonEl =\n",
              "        document.querySelector('#df-a8f5692c-9ff3-4c67-85a7-5d50ff747558 button.colab-df-convert');\n",
              "      buttonEl.style.display =\n",
              "        google.colab.kernel.accessAllowed ? 'block' : 'none';\n",
              "\n",
              "      async function convertToInteractive(key) {\n",
              "        const element = document.querySelector('#df-a8f5692c-9ff3-4c67-85a7-5d50ff747558');\n",
              "        const dataTable =\n",
              "          await google.colab.kernel.invokeFunction('convertToInteractive',\n",
              "                                                    [key], {});\n",
              "        if (!dataTable) return;\n",
              "\n",
              "        const docLinkHtml = 'Like what you see? Visit the ' +\n",
              "          '<a target=\"_blank\" href=https://colab.research.google.com/notebooks/data_table.ipynb>data table notebook</a>'\n",
              "          + ' to learn more about interactive tables.';\n",
              "        element.innerHTML = '';\n",
              "        dataTable['output_type'] = 'display_data';\n",
              "        await google.colab.output.renderOutput(dataTable, element);\n",
              "        const docLink = document.createElement('div');\n",
              "        docLink.innerHTML = docLinkHtml;\n",
              "        element.appendChild(docLink);\n",
              "      }\n",
              "    </script>\n",
              "  </div>\n",
              "\n",
              "\n",
              "<div id=\"df-41240f87-13a0-49a4-b398-5ae2d8aeaba3\">\n",
              "  <button class=\"colab-df-quickchart\" onclick=\"quickchart('df-41240f87-13a0-49a4-b398-5ae2d8aeaba3')\"\n",
              "            title=\"Suggest charts.\"\n",
              "            style=\"display:none;\">\n",
              "\n",
              "<svg xmlns=\"http://www.w3.org/2000/svg\" height=\"24px\"viewBox=\"0 0 24 24\"\n",
              "     width=\"24px\">\n",
              "    <g>\n",
              "        <path d=\"M19 3H5c-1.1 0-2 .9-2 2v14c0 1.1.9 2 2 2h14c1.1 0 2-.9 2-2V5c0-1.1-.9-2-2-2zM9 17H7v-7h2v7zm4 0h-2V7h2v10zm4 0h-2v-4h2v4z\"/>\n",
              "    </g>\n",
              "</svg>\n",
              "  </button>\n",
              "\n",
              "<style>\n",
              "  .colab-df-quickchart {\n",
              "      --bg-color: #E8F0FE;\n",
              "      --fill-color: #1967D2;\n",
              "      --hover-bg-color: #E2EBFA;\n",
              "      --hover-fill-color: #174EA6;\n",
              "      --disabled-fill-color: #AAA;\n",
              "      --disabled-bg-color: #DDD;\n",
              "  }\n",
              "\n",
              "  [theme=dark] .colab-df-quickchart {\n",
              "      --bg-color: #3B4455;\n",
              "      --fill-color: #D2E3FC;\n",
              "      --hover-bg-color: #434B5C;\n",
              "      --hover-fill-color: #FFFFFF;\n",
              "      --disabled-bg-color: #3B4455;\n",
              "      --disabled-fill-color: #666;\n",
              "  }\n",
              "\n",
              "  .colab-df-quickchart {\n",
              "    background-color: var(--bg-color);\n",
              "    border: none;\n",
              "    border-radius: 50%;\n",
              "    cursor: pointer;\n",
              "    display: none;\n",
              "    fill: var(--fill-color);\n",
              "    height: 32px;\n",
              "    padding: 0;\n",
              "    width: 32px;\n",
              "  }\n",
              "\n",
              "  .colab-df-quickchart:hover {\n",
              "    background-color: var(--hover-bg-color);\n",
              "    box-shadow: 0 1px 2px rgba(60, 64, 67, 0.3), 0 1px 3px 1px rgba(60, 64, 67, 0.15);\n",
              "    fill: var(--button-hover-fill-color);\n",
              "  }\n",
              "\n",
              "  .colab-df-quickchart-complete:disabled,\n",
              "  .colab-df-quickchart-complete:disabled:hover {\n",
              "    background-color: var(--disabled-bg-color);\n",
              "    fill: var(--disabled-fill-color);\n",
              "    box-shadow: none;\n",
              "  }\n",
              "\n",
              "  .colab-df-spinner {\n",
              "    border: 2px solid var(--fill-color);\n",
              "    border-color: transparent;\n",
              "    border-bottom-color: var(--fill-color);\n",
              "    animation:\n",
              "      spin 1s steps(1) infinite;\n",
              "  }\n",
              "\n",
              "  @keyframes spin {\n",
              "    0% {\n",
              "      border-color: transparent;\n",
              "      border-bottom-color: var(--fill-color);\n",
              "      border-left-color: var(--fill-color);\n",
              "    }\n",
              "    20% {\n",
              "      border-color: transparent;\n",
              "      border-left-color: var(--fill-color);\n",
              "      border-top-color: var(--fill-color);\n",
              "    }\n",
              "    30% {\n",
              "      border-color: transparent;\n",
              "      border-left-color: var(--fill-color);\n",
              "      border-top-color: var(--fill-color);\n",
              "      border-right-color: var(--fill-color);\n",
              "    }\n",
              "    40% {\n",
              "      border-color: transparent;\n",
              "      border-right-color: var(--fill-color);\n",
              "      border-top-color: var(--fill-color);\n",
              "    }\n",
              "    60% {\n",
              "      border-color: transparent;\n",
              "      border-right-color: var(--fill-color);\n",
              "    }\n",
              "    80% {\n",
              "      border-color: transparent;\n",
              "      border-right-color: var(--fill-color);\n",
              "      border-bottom-color: var(--fill-color);\n",
              "    }\n",
              "    90% {\n",
              "      border-color: transparent;\n",
              "      border-bottom-color: var(--fill-color);\n",
              "    }\n",
              "  }\n",
              "</style>\n",
              "\n",
              "  <script>\n",
              "    async function quickchart(key) {\n",
              "      const quickchartButtonEl =\n",
              "        document.querySelector('#' + key + ' button');\n",
              "      quickchartButtonEl.disabled = true;  // To prevent multiple clicks.\n",
              "      quickchartButtonEl.classList.add('colab-df-spinner');\n",
              "      try {\n",
              "        const charts = await google.colab.kernel.invokeFunction(\n",
              "            'suggestCharts', [key], {});\n",
              "      } catch (error) {\n",
              "        console.error('Error during call to suggestCharts:', error);\n",
              "      }\n",
              "      quickchartButtonEl.classList.remove('colab-df-spinner');\n",
              "      quickchartButtonEl.classList.add('colab-df-quickchart-complete');\n",
              "    }\n",
              "    (() => {\n",
              "      let quickchartButtonEl =\n",
              "        document.querySelector('#df-41240f87-13a0-49a4-b398-5ae2d8aeaba3 button');\n",
              "      quickchartButtonEl.style.display =\n",
              "        google.colab.kernel.accessAllowed ? 'block' : 'none';\n",
              "    })();\n",
              "  </script>\n",
              "</div>\n",
              "    </div>\n",
              "  </div>\n"
            ]
          },
          "metadata": {},
          "execution_count": 8
        }
      ]
    },
    {
      "cell_type": "markdown",
      "metadata": {
        "id": "ujlEfWORktMc"
      },
      "source": [
        "\n",
        "\n",
        "---\n",
        "\n",
        "###Single Variable Logistic Regression"
      ]
    },
    {
      "cell_type": "markdown",
      "metadata": {
        "id": "7AxWxRRzceX6"
      },
      "source": [
        "While we could spend much more time going through our data to make it easier to train off of,  I'm going to move on to training using logistic regression due to time constraints for this session. Logistical regression is very similar to linear regression with the main difference being that we get a categorical output rather than a continuous one. This is what we need to be able to classify into our `0` (no failure) and `1` (failure) categories for the `Machine failure` column. To make things simpler we will be starting off with just one variable to make our predictions which means we need to be able to choose the best column from our dataset to use. The code below creates a graph of the distribution of our two categories among data entries in different columns in our dataset. The columns we are testing are listed in the `test_columns` list. Feel free to change which columns are being used to see if you can find one that fits our task even better than the ones used below."
      ]
    },
    {
      "cell_type": "code",
      "metadata": {
        "id": "gE59Cz9aitdQ",
        "colab": {
          "base_uri": "https://localhost:8080/",
          "height": 1000
        },
        "outputId": "49df3187-8bd7-49f1-a968-816cf15ac0be"
      },
      "source": [
        "test_columns = [\"Process temperature [K]\", \"Torque [Nm]\", \"Tool wear [min]\", \"Rotational speed [rpm]\"]\n",
        "\n",
        "for feature_name in test_columns:\n",
        "  plt.figure()\n",
        "  processed_data.groupby(\"Machine failure\")[feature_name].plot.hist(alpha=0.5, density=True, legend=True)\n",
        "  plt.xlabel(feature_name)"
      ],
      "execution_count": null,
      "outputs": [
        {
          "output_type": "display_data",
          "data": {
            "text/plain": [
              "<Figure size 640x480 with 1 Axes>"
            ],
            "image/png": "[encoded data removed]"
          },
          "metadata": {}
        },
        {
          "output_type": "display_data",
          "data": {
            "text/plain": [
              "<Figure size 640x480 with 1 Axes>"
            ],
            "image/png": "[encoded data removed]"
          },
          "metadata": {}
        },
        {
          "output_type": "display_data",
          "data": {
            "text/plain": [
              "<Figure size 640x480 with 1 Axes>"
            ],
            "image/png": "[encoded data removed]"
          },
          "metadata": {}
        },
        {
          "output_type": "display_data",
          "data": {
            "text/plain": [
              "<Figure size 640x480 with 1 Axes>"
            ],
            "image/png": "[encoded data removed]"
          },
          "metadata": {}
        }
      ]
    },
    {
      "cell_type": "markdown",
      "metadata": {
        "id": "ZRrVLON_dwhv"
      },
      "source": [
        "In these plots we are looking for a clear distinction between where the machine fails and where it doesn't. This would tell us that the feature we are looking at is a good indicator of machine failure. In the graphs shown there are some that look slightly better than others but if you want a better example of what to look for in these graphs check out the tumor classification notebook linked at the top of the page. We can see however that process temperature does not look like a good indicator while torque is the most promising looking option. Now let's run an example of our logistic regression model. We will start by using Process Temperature as our feature to predict Machine failure off of. We will them create the same model using Torque as our feature to see if that increases accuracy."
      ]
    },
    {
      "cell_type": "code",
      "metadata": {
        "id": "VpSIeL2Gd7Mg",
        "colab": {
          "base_uri": "https://localhost:8080/"
        },
        "outputId": "3da47f3b-ab70-43a3-e754-64dbd28acd9c"
      },
      "source": [
        "# feel free to play with different features to use for X, ie tool wear, air temp, etc\n",
        "x_single = processed_data['Process temperature [K]']\n",
        "y_single = processed_data['Machine failure']\n",
        "\n",
        "# some of this code comes from https://pythonspot.com/linear-regression/\n",
        "\n",
        "x_single = x_single.values.reshape(len(x_single),1)\n",
        "y_single = y_single.values.reshape(len(y_single),1)\n",
        "\n",
        "# Split the data into training/testing sets\n",
        "x_single_train = x_single[:-500]\n",
        "x_single_test = x_single[-500:]\n",
        "\n",
        "# Split the targets into training/testing sets\n",
        "y_single_train = y_single[:-500]\n",
        "y_single_test = y_single[-500:]\n",
        "\n",
        "# Create logistic regression object\n",
        "temp_model = LogisticRegression()\n",
        "\n",
        "# Train the model using the training sets\n",
        "temp_model.fit(x_single_train, y_single_train)\n",
        "accuracy = temp_model.score(x_single_test, y_single_test)\n",
        "print(f\"Accuracy on test set: {accuracy:.3f}\")"
      ],
      "execution_count": null,
      "outputs": [
        {
          "output_type": "stream",
          "name": "stdout",
          "text": [
            "Accuracy on test set: 0.974\n"
          ]
        },
        {
          "output_type": "stream",
          "name": "stderr",
          "text": [
            "/usr/local/lib/python3.10/dist-packages/sklearn/utils/validation.py:1143: DataConversionWarning: A column-vector y was passed when a 1d array was expected. Please change the shape of y to (n_samples, ), for example using ravel().\n",
            "  y = column_or_1d(y, warn=True)\n"
          ]
        }
      ]
    },
    {
      "cell_type": "markdown",
      "metadata": {
        "id": "JyxUvLnn-SmE"
      },
      "source": [
        "The code cell above fetches our `Torque` values as our X and our `Machine Failure` labels as our Y. Then we split our data into training and testing sets and train a Logistic Regression model off this data using `scikit-learn` and the `fit()` function. You should see a test set accuracy value printed out at the end which gives us an indication of this model's performance. Keep this accuracy in mind as we will use it for comparison next. Let's try doing the same thing but using `Rotational Speed` as our X feature."
      ]
    },
    {
      "cell_type": "code",
      "source": [
        "# feel free to play with different features to use for X, ie tool wear, air temp, etc\n",
        "x_single = processed_data['Torque [Nm]']\n",
        "\n",
        "# some of this code comes from https://pythonspot.com/linear-regression/\n",
        "x_single = x_single.values.reshape(len(x_single),1)\n",
        "\n",
        "# Split the data into training/testing sets\n",
        "x_single_train = x_single[:-500]\n",
        "x_single_test = x_single[-500:]\n",
        "\n",
        "# Create logistic regression object\n",
        "torque_model = LogisticRegression()\n",
        "\n",
        "# Train the model using the training sets\n",
        "torque_model.fit(x_single_train, y_single_train)\n",
        "accuracy = torque_model.score(x_single_test, y_single_test)\n",
        "print(f\"Accuracy on test set: {accuracy:.3f}\")"
      ],
      "metadata": {
        "colab": {
          "base_uri": "https://localhost:8080/"
        },
        "id": "IaBJqLXFbobh",
        "outputId": "be3ff274-2b9f-46ea-e0ec-03c68e3d0bad"
      },
      "execution_count": null,
      "outputs": [
        {
          "output_type": "stream",
          "name": "stdout",
          "text": [
            "Accuracy on test set: 0.974\n"
          ]
        },
        {
          "output_type": "stream",
          "name": "stderr",
          "text": [
            "/usr/local/lib/python3.10/dist-packages/sklearn/utils/validation.py:1143: DataConversionWarning: A column-vector y was passed when a 1d array was expected. Please change the shape of y to (n_samples, ), for example using ravel().\n",
            "  y = column_or_1d(y, warn=True)\n"
          ]
        }
      ]
    },
    {
      "cell_type": "markdown",
      "source": [
        "An important part of data science is being able to tell when things seem a bit \"fishy\" as a lot of times there's another factor at play scewing your model results. The fact that we got the same exact accuracy from both of these models while using different X features is very unusual and should raise some red flags about the approach we are using."
      ],
      "metadata": {
        "id": "V-bLMFndfYu3"
      }
    },
    {
      "cell_type": "markdown",
      "metadata": {
        "id": "C8d9hXPyyVRH"
      },
      "source": [
        "\n",
        "\n",
        "---\n",
        "\n"
      ]
    },
    {
      "cell_type": "markdown",
      "source": [
        "###Dealing with Class Imbalance\n"
      ],
      "metadata": {
        "id": "NtdpzRfLKsWc"
      }
    },
    {
      "cell_type": "markdown",
      "source": [
        "If we think a bit more about our dataset itself we start to find a big problem. When we record data points of an industrial machine in operation at set increments, most of these values are going to report no machine failure. Machine failures are (hopefully) rare occurances compared to the overall runtime of the machine in operation. This creates what is called a class imbalance where most of our datapoints go in one category while relatively few go in the other. Let's check for class imbalance in our dataset."
      ],
      "metadata": {
        "id": "MxywvRf8fyxO"
      }
    },
    {
      "cell_type": "code",
      "source": [
        "processed_data[\"Machine failure\"].value_counts()"
      ],
      "metadata": {
        "colab": {
          "base_uri": "https://localhost:8080/"
        },
        "id": "noGtDg4egfAY",
        "outputId": "6c01c7a8-be33-4300-cba5-5c6e33685acf"
      },
      "execution_count": null,
      "outputs": [
        {
          "output_type": "execute_result",
          "data": {
            "text/plain": [
              "0    9661\n",
              "1     339\n",
              "Name: Machine failure, dtype: int64"
            ]
          },
          "metadata": {},
          "execution_count": 12
        }
      ]
    },
    {
      "cell_type": "markdown",
      "source": [
        "Only 339 samples out of our 10,000 sample dataset report 1, or that a machine failure has occured. This is only about 3% of our dataset. What can happen when an imbalance this drastic occurs is that the model \"gives up\" on trying to predict actual machine failures and instead just predicts 0 for everything. By doing this it actually is able to achieve a higher accuracy value, in our case of around 98%, by doing this rather than trying at all to predict any machine failures. However, this makes the model useless to us."
      ],
      "metadata": {
        "id": "VoxYDbb6hBGV"
      }
    },
    {
      "cell_type": "markdown",
      "source": [
        "To confirm our theory, let's take a look at the results from our first model we trained using the Torque feature. We are going to create a confusion matrix from our this model's predictions which will tell us what our model is doing."
      ],
      "metadata": {
        "id": "Zc2fh2tNKxEr"
      }
    },
    {
      "cell_type": "code",
      "source": [
        "predictions = torque_model.predict(x_single_test)\n",
        "clean_y_single_test = []\n",
        "\n",
        "for i in range(len(y_single_test)):\n",
        "  clean_y_single_test.append(str(y_single_test[i]).replace(\"[\", \"\").replace(\"]\", \"\"))\n",
        "\n",
        "cm1 = ConfusionMatrix(clean_y_single_test, predictions)\n",
        "\n",
        "cm1.plot(cmap=plt.cm.Blues, number_label=True)"
      ],
      "metadata": {
        "colab": {
          "base_uri": "https://localhost:8080/",
          "height": 489
        },
        "id": "529hlZW2O76O",
        "outputId": "51b9ee5b-c08a-4ccb-c638-a9239fda8e55"
      },
      "execution_count": null,
      "outputs": [
        {
          "output_type": "execute_result",
          "data": {
            "text/plain": [
              "<Axes: title={'center': 'Confusion Matrix'}, xlabel='Predicted Classes', ylabel='Actual Classes'>"
            ]
          },
          "metadata": {},
          "execution_count": 13
        },
        {
          "output_type": "display_data",
          "data": {
            "text/plain": [
              "<Figure size 640x480 with 2 Axes>"
            ],
            "image/png": "[encoded data removed]"
          },
          "metadata": {}
        }
      ]
    },
    {
      "cell_type": "markdown",
      "source": [
        "If you look at the 1 column of the Predicted label axis you can see two 0s in the squares. This tells us that our model never tried to predict a 1 in all 500 test sample predictions, confirming our theory. This caused us to miss all 13 machine failures that we can see in our confusion matrix. If we divide 13/500 that gives us 0.026, explaining why we got our 97.4% accuracy no matter what we chose for our X feature."
      ],
      "metadata": {
        "id": "GrrO2iVTXYTF"
      }
    },
    {
      "cell_type": "markdown",
      "source": [
        "Luckily this is a common issue and `scikit-learn` already has a setting for our Logistic Regression model that should help. Keep in mind that I could probably do a whole session just on techniques to help with class imbalance and I'm only going to show the simplest on here for now."
      ],
      "metadata": {
        "id": "UvauU6ypjnm9"
      }
    },
    {
      "cell_type": "markdown",
      "source": [
        "Let's take another stab at our torque model. The setup below is mostly the same as before expect we are going to pass the `class_weight='balanced'` argument to our `LogisticRegression()` function. In a nutshell this will weight the importance of prediction differently for our two classes skewing the weighting to the underrepresented class. [Click here](https://scikit-learn.org/stable/modules/generated/sklearn.linear_model.LogisticRegression.html) to view the documentation for this if you want to learn more. Essentially this should prevent the model from just predicting 0 all the time. From this we should expect a lower accuracy but we should be able to see some variety in the model's predictions."
      ],
      "metadata": {
        "id": "V7NOfzfFj9L0"
      }
    },
    {
      "cell_type": "code",
      "source": [
        "# feel free to play with different features to use for X, ie perimeter_mean, compactness_mean, etc\n",
        "x_single = processed_data['Torque [Nm]']\n",
        "\n",
        "# some of this code comes from https://pythonspot.com/linear-regression/\n",
        "\n",
        "x_single = x_single.values.reshape(len(x_single),1)\n",
        "\n",
        "# Split the data into training/testing sets\n",
        "x_single_train = x_single[:-500]\n",
        "x_single_test = x_single[-500:]\n",
        "\n",
        "# Create logistic regression object\n",
        "torque_model_balanced = LogisticRegression(class_weight='balanced')\n",
        "\n",
        "# Train the model using the training sets\n",
        "torque_model_balanced.fit(x_single_train, y_single_train)\n",
        "accuracy = torque_model_balanced.score(x_single_test, y_single_test)\n",
        "print(f\"Accuracy on test set: {accuracy:.3f}\")\n",
        "\n",
        "# format data for CM\n",
        "clean_y_single_test2 = []\n",
        "\n",
        "for i in range(len(y_single_test)):\n",
        "  clean_y_single_test2.append(str(y_single_test[i]).replace(\"[\", \"\").replace(\"]\", \"\"))\n",
        "\n",
        "# Confusion matrix\n",
        "predictions = torque_model_balanced.predict(x_single_test)\n",
        "\n",
        "cm2 = ConfusionMatrix(clean_y_single_test2, predictions)\n",
        "\n",
        "cm2.plot(cmap=plt.cm.Blues, number_label=True)"
      ],
      "metadata": {
        "colab": {
          "base_uri": "https://localhost:8080/",
          "height": 541
        },
        "id": "OUXvX5HfXaO4",
        "outputId": "9fc0aa62-ca56-4eff-c7ba-98d35acb09ec"
      },
      "execution_count": null,
      "outputs": [
        {
          "output_type": "stream",
          "name": "stdout",
          "text": [
            "Accuracy on test set: 0.704\n"
          ]
        },
        {
          "output_type": "stream",
          "name": "stderr",
          "text": [
            "/usr/local/lib/python3.10/dist-packages/sklearn/utils/validation.py:1143: DataConversionWarning: A column-vector y was passed when a 1d array was expected. Please change the shape of y to (n_samples, ), for example using ravel().\n",
            "  y = column_or_1d(y, warn=True)\n"
          ]
        },
        {
          "output_type": "execute_result",
          "data": {
            "text/plain": [
              "<Axes: title={'center': 'Confusion Matrix'}, xlabel='Predicted Classes', ylabel='Actual Classes'>"
            ]
          },
          "metadata": {},
          "execution_count": 14
        },
        {
          "output_type": "display_data",
          "data": {
            "text/plain": [
              "<Figure size 640x480 with 2 Axes>"
            ],
            "image/png": "[encoded data removed]"
          },
          "metadata": {}
        }
      ]
    },
    {
      "cell_type": "markdown",
      "source": [
        "Now we can see that our model is doing quite a bit worse accuracy-wise, but is at least making an attempt at predicting machine failures. This means we are training a model that's actually going to be useful to us rather than just always predicting 0. Now that we have a better starting point, let's see if we can increase our accuracy using some different model types."
      ],
      "metadata": {
        "id": "40PXZYb75bh2"
      }
    },
    {
      "cell_type": "markdown",
      "metadata": {
        "id": "blft5H_gjWhz"
      },
      "source": [
        "###Decision Trees\n"
      ]
    },
    {
      "cell_type": "markdown",
      "metadata": {
        "id": "sJuuUNczy61c"
      },
      "source": [
        "There's only so far we can get in terms of accuracy with our model when all we have to work with is a straight line. Let's try a decision tree instead to see how that performs for our problem. Once again we are going to use the `class_weight='balanced'` argument to try to help with our class imbalance issue."
      ]
    },
    {
      "cell_type": "code",
      "metadata": {
        "id": "CNHmc0RIPUXc",
        "colab": {
          "base_uri": "https://localhost:8080/",
          "height": 507
        },
        "outputId": "df3e0e84-85a6-4668-f15f-2dfb69e8529d"
      },
      "source": [
        "x_tree = processed_data.drop('Machine failure', axis=1)\n",
        "y_tree = processed_data['Machine failure']\n",
        "\n",
        "x_train_tree, x_test_tree, y_train_tree, y_test_tree = train_test_split(x_tree, y_tree, test_size=0.2)\n",
        "\n",
        "# create a classifier object\n",
        "tree_model = DecisionTreeClassifier(class_weight='balanced')\n",
        "\n",
        "# fit the classifier with X and Y data\n",
        "tree_model.fit(x_train_tree, y_train_tree)\n",
        "\n",
        "accuracy = tree_model.score(x_test_tree, y_test_tree)\n",
        "\n",
        "print(f\"Accuracy on test set: {accuracy:.3f}\")\n",
        "\n",
        "# Confusion matrix\n",
        "predictions = tree_model.predict(x_test_tree)\n",
        "\n",
        "cm3 = ConfusionMatrix(y_test_tree.tolist(), predictions)\n",
        "\n",
        "cm3.plot(cmap=plt.cm.Blues, number_label=True)"
      ],
      "execution_count": null,
      "outputs": [
        {
          "output_type": "stream",
          "name": "stdout",
          "text": [
            "Accuracy on test set: 0.978\n"
          ]
        },
        {
          "output_type": "execute_result",
          "data": {
            "text/plain": [
              "<Axes: title={'center': 'Confusion Matrix'}, xlabel='Predicted Classes', ylabel='Actual Classes'>"
            ]
          },
          "metadata": {},
          "execution_count": 15
        },
        {
          "output_type": "display_data",
          "data": {
            "text/plain": [
              "<Figure size 640x480 with 2 Axes>"
            ],
            "image/png": "[encoded data removed]"
          },
          "metadata": {}
        }
      ]
    },
    {
      "cell_type": "markdown",
      "metadata": {
        "id": "-XCnMFc9r41Z"
      },
      "source": [
        "Our accuracy is now ~98% which is much better than before. This isn't too surpring as the model now has a lot more information to work with rather than just one feature. We can also see in our confusion matrix that the model isn't just predicting 0.\n",
        "\n",
        "---\n",
        "\n"
      ]
    },
    {
      "cell_type": "markdown",
      "metadata": {
        "id": "hLuas59uyC5Q"
      },
      "source": [
        "###Random Forest\n"
      ]
    },
    {
      "cell_type": "markdown",
      "metadata": {
        "id": "s4fYxsh3zRXL"
      },
      "source": [
        "Now that we are starting to get some good results, let's see if we can do even better with some more complex techniques. What's better than one decision tree? What about a whole forest of decision trees? Run the code below to see what happens."
      ]
    },
    {
      "cell_type": "code",
      "metadata": {
        "id": "PkXM5E5Rbz_6",
        "colab": {
          "base_uri": "https://localhost:8080/",
          "height": 507
        },
        "outputId": "df6573a1-09a3-425f-fac3-df79e9aaf8de"
      },
      "source": [
        "x_forest = processed_data.drop('Machine failure', axis=1)\n",
        "y_forest = processed_data['Machine failure']\n",
        "\n",
        "x_train_forest, x_test_forest, y_train_forest, y_test_forest = train_test_split(x_forest, y_forest, test_size=0.2)\n",
        "\n",
        "forest_model = RandomForestClassifier(class_weight='balanced')\n",
        "forest_model.fit(x_train_forest, y_train_forest)\n",
        "\n",
        "accuracy = forest_model.score(x_test_forest, y_test_forest)\n",
        "\n",
        "print(f\"Accuracy on test set: {accuracy:.3f}\")\n",
        "\n",
        "# Confusion matrix\n",
        "predictions = forest_model.predict(x_test_tree)\n",
        "\n",
        "cm4 = ConfusionMatrix(y_test_forest.tolist(), predictions)\n",
        "\n",
        "cm4.plot(cmap=plt.cm.Blues, number_label=True)"
      ],
      "execution_count": null,
      "outputs": [
        {
          "output_type": "stream",
          "name": "stdout",
          "text": [
            "Accuracy on test set: 0.978\n"
          ]
        },
        {
          "output_type": "execute_result",
          "data": {
            "text/plain": [
              "<Axes: title={'center': 'Confusion Matrix'}, xlabel='Predicted Classes', ylabel='Actual Classes'>"
            ]
          },
          "metadata": {},
          "execution_count": 16
        },
        {
          "output_type": "display_data",
          "data": {
            "text/plain": [
              "<Figure size 640x480 with 2 Axes>"
            ],
            "image/png": "[encoded data removed]"
          },
          "metadata": {}
        }
      ]
    },
    {
      "cell_type": "markdown",
      "metadata": {
        "id": "UOr2rH4q1dk7"
      },
      "source": [
        "The accuracy is pretty similar to the Decision Tree model. However, our confusion matrix tells us that we did not make very many/any correct machine failure predictions. This tells us that our Decision Tree model actually performed better despite the accuracies being similar. We could probably improve the Random Forest model by playing around with hyperparamaters and more dataset preprocessing but I'll leave that as an experiment for you.\n",
        "\n",
        "\n",
        "\n",
        "---\n",
        "\n"
      ]
    },
    {
      "cell_type": "markdown",
      "metadata": {
        "id": "Wq8No4Y31fxd"
      },
      "source": [
        "###XGBoost"
      ]
    },
    {
      "cell_type": "markdown",
      "metadata": {
        "id": "CHvA8OTTGECS"
      },
      "source": [
        "Now let's move away from bagging and try a boost ensemble model, in this case XGBoost. This is one of the most popular ML algorithms you'll come across in Kaggle competitions and other such sites. Below is the code needed to create your XGBoost model and fit it to your training data."
      ]
    },
    {
      "cell_type": "code",
      "metadata": {
        "id": "rBMdYaWH1kj7",
        "colab": {
          "base_uri": "https://localhost:8080/",
          "height": 248
        },
        "outputId": "489148ec-8430-4ba7-96b3-6e7fc7c9c73e"
      },
      "source": [
        "# XGBoost doesn't like [] in the feature names so we need to change the names of our columns\n",
        "processed_data = processed_data.rename(columns={\"Air temperature [K]\": \"Air temperature\",\n",
        "                                                \"Process temperature [K]\": \"Process temperature\",\n",
        "                                                \"Rotational speed [rpm]\": \"Rotational speed\",\n",
        "                                                \"Torque [Nm]\": \"Torque\",\n",
        "                                                \"Tool wear [min]\": \"Tool wear\"})\n",
        "\n",
        "x_boost = processed_data.drop('Machine failure', axis=1)\n",
        "y_boost = processed_data['Machine failure']\n",
        "\n",
        "x_train_boost, x_test_boost, y_train_boost, y_test_boost = train_test_split(x_boost, y_boost, test_size=0.2)\n",
        "\n",
        "boost = XGBClassifier()\n",
        "boost.fit(x_train_boost, y_train_boost)"
      ],
      "execution_count": null,
      "outputs": [
        {
          "output_type": "execute_result",
          "data": {
            "text/plain": [
              "XGBClassifier(base_score=None, booster=None, callbacks=None,\n",
              "              colsample_bylevel=None, colsample_bynode=None,\n",
              "              colsample_bytree=None, early_stopping_rounds=None,\n",
              "              enable_categorical=False, eval_metric=None, feature_types=None,\n",
              "              gamma=None, gpu_id=None, grow_policy=None, importance_type=None,\n",
              "              interaction_constraints=None, learning_rate=None, max_bin=None,\n",
              "              max_cat_threshold=None, max_cat_to_onehot=None,\n",
              "              max_delta_step=None, max_depth=None, max_leaves=None,\n",
              "              min_child_weight=None, missing=nan, monotone_constraints=None,\n",
              "              n_estimators=100, n_jobs=None, num_parallel_tree=None,\n",
              "              predictor=None, random_state=None, ...)"
            ],
            "text/html": [
              "<style>#sk-container-id-1 {color: black;background-color: white;}#sk-container-id-1 pre{padding: 0;}#sk-container-id-1 div.sk-toggleable {background-color: white;}#sk-container-id-1 label.sk-toggleable__label {cursor: pointer;display: block;width: 100%;margin-bottom: 0;padding: 0.3em;box-sizing: border-box;text-align: center;}#sk-container-id-1 label.sk-toggleable__label-arrow:before {content: \"▸\";float: left;margin-right: 0.25em;color: #696969;}#sk-container-id-1 label.sk-toggleable__label-arrow:hover:before {color: black;}#sk-container-id-1 div.sk-estimator:hover label.sk-toggleable__label-arrow:before {color: black;}#sk-container-id-1 div.sk-toggleable__content {max-height: 0;max-width: 0;overflow: hidden;text-align: left;background-color: #f0f8ff;}#sk-container-id-1 div.sk-toggleable__content pre {margin: 0.2em;color: black;border-radius: 0.25em;background-color: #f0f8ff;}#sk-container-id-1 input.sk-toggleable__control:checked~div.sk-toggleable__content {max-height: 200px;max-width: 100%;overflow: auto;}#sk-container-id-1 input.sk-toggleable__control:checked~label.sk-toggleable__label-arrow:before {content: \"▾\";}#sk-container-id-1 div.sk-estimator input.sk-toggleable__control:checked~label.sk-toggleable__label {background-color: #d4ebff;}#sk-container-id-1 div.sk-label input.sk-toggleable__control:checked~label.sk-toggleable__label {background-color: #d4ebff;}#sk-container-id-1 input.sk-hidden--visually {border: 0;clip: rect(1px 1px 1px 1px);clip: rect(1px, 1px, 1px, 1px);height: 1px;margin: -1px;overflow: hidden;padding: 0;position: absolute;width: 1px;}#sk-container-id-1 div.sk-estimator {font-family: monospace;background-color: #f0f8ff;border: 1px dotted black;border-radius: 0.25em;box-sizing: border-box;margin-bottom: 0.5em;}#sk-container-id-1 div.sk-estimator:hover {background-color: #d4ebff;}#sk-container-id-1 div.sk-parallel-item::after {content: \"\";width: 100%;border-bottom: 1px solid gray;flex-grow: 1;}#sk-container-id-1 div.sk-label:hover label.sk-toggleable__label {background-color: #d4ebff;}#sk-container-id-1 div.sk-serial::before {content: \"\";position: absolute;border-left: 1px solid gray;box-sizing: border-box;top: 0;bottom: 0;left: 50%;z-index: 0;}#sk-container-id-1 div.sk-serial {display: flex;flex-direction: column;align-items: center;background-color: white;padding-right: 0.2em;padding-left: 0.2em;position: relative;}#sk-container-id-1 div.sk-item {position: relative;z-index: 1;}#sk-container-id-1 div.sk-parallel {display: flex;align-items: stretch;justify-content: center;background-color: white;position: relative;}#sk-container-id-1 div.sk-item::before, #sk-container-id-1 div.sk-parallel-item::before {content: \"\";position: absolute;border-left: 1px solid gray;box-sizing: border-box;top: 0;bottom: 0;left: 50%;z-index: -1;}#sk-container-id-1 div.sk-parallel-item {display: flex;flex-direction: column;z-index: 1;position: relative;background-color: white;}#sk-container-id-1 div.sk-parallel-item:first-child::after {align-self: flex-end;width: 50%;}#sk-container-id-1 div.sk-parallel-item:last-child::after {align-self: flex-start;width: 50%;}#sk-container-id-1 div.sk-parallel-item:only-child::after {width: 0;}#sk-container-id-1 div.sk-dashed-wrapped {border: 1px dashed gray;margin: 0 0.4em 0.5em 0.4em;box-sizing: border-box;padding-bottom: 0.4em;background-color: white;}#sk-container-id-1 div.sk-label label {font-family: monospace;font-weight: bold;display: inline-block;line-height: 1.2em;}#sk-container-id-1 div.sk-label-container {text-align: center;}#sk-container-id-1 div.sk-container {/* jupyter's `normalize.less` sets `[hidden] { display: none; }` but bootstrap.min.css set `[hidden] { display: none !important; }` so we also need the `!important` here to be able to override the default hidden behavior on the sphinx rendered scikit-learn.org. See: https://github.com/scikit-learn/scikit-learn/issues/21755 */display: inline-block !important;position: relative;}#sk-container-id-1 div.sk-text-repr-fallback {display: none;}</style><div id=\"sk-container-id-1\" class=\"sk-top-container\"><div class=\"sk-text-repr-fallback\"><pre>XGBClassifier(base_score=None, booster=None, callbacks=None,\n",
              "              colsample_bylevel=None, colsample_bynode=None,\n",
              "              colsample_bytree=None, early_stopping_rounds=None,\n",
              "              enable_categorical=False, eval_metric=None, feature_types=None,\n",
              "              gamma=None, gpu_id=None, grow_policy=None, importance_type=None,\n",
              "              interaction_constraints=None, learning_rate=None, max_bin=None,\n",
              "              max_cat_threshold=None, max_cat_to_onehot=None,\n",
              "              max_delta_step=None, max_depth=None, max_leaves=None,\n",
              "              min_child_weight=None, missing=nan, monotone_constraints=None,\n",
              "              n_estimators=100, n_jobs=None, num_parallel_tree=None,\n",
              "              predictor=None, random_state=None, ...)</pre><b>In a Jupyter environment, please rerun this cell to show the HTML representation or trust the notebook. <br />On GitHub, the HTML representation is unable to render, please try loading this page with nbviewer.org.</b></div><div class=\"sk-container\" hidden><div class=\"sk-item\"><div class=\"sk-estimator sk-toggleable\"><input class=\"sk-toggleable__control sk-hidden--visually\" id=\"sk-estimator-id-1\" type=\"checkbox\" checked><label for=\"sk-estimator-id-1\" class=\"sk-toggleable__label sk-toggleable__label-arrow\">XGBClassifier</label><div class=\"sk-toggleable__content\"><pre>XGBClassifier(base_score=None, booster=None, callbacks=None,\n",
              "              colsample_bylevel=None, colsample_bynode=None,\n",
              "              colsample_bytree=None, early_stopping_rounds=None,\n",
              "              enable_categorical=False, eval_metric=None, feature_types=None,\n",
              "              gamma=None, gpu_id=None, grow_policy=None, importance_type=None,\n",
              "              interaction_constraints=None, learning_rate=None, max_bin=None,\n",
              "              max_cat_threshold=None, max_cat_to_onehot=None,\n",
              "              max_delta_step=None, max_depth=None, max_leaves=None,\n",
              "              min_child_weight=None, missing=nan, monotone_constraints=None,\n",
              "              n_estimators=100, n_jobs=None, num_parallel_tree=None,\n",
              "              predictor=None, random_state=None, ...)</pre></div></div></div></div></div>"
            ]
          },
          "metadata": {},
          "execution_count": 17
        }
      ]
    },
    {
      "cell_type": "markdown",
      "metadata": {
        "id": "lMp8GauOLHeG"
      },
      "source": [
        "Now that our model is trained, let's see how it is doing on our data."
      ]
    },
    {
      "cell_type": "code",
      "metadata": {
        "id": "s_j2fYTm8z1I",
        "colab": {
          "base_uri": "https://localhost:8080/",
          "height": 507
        },
        "outputId": "9aab9432-3007-4469-a602-43080ea3179d"
      },
      "source": [
        "accuracy = boost.score(x_test_boost, y_test_boost)\n",
        "print(f\"Accuracy on test set: {accuracy:.3f}\")\n",
        "\n",
        "# Confusion matrix\n",
        "predictions = boost.predict(x_test_boost)\n",
        "\n",
        "cm5 = ConfusionMatrix(y_test_boost.tolist(), predictions)\n",
        "\n",
        "cm5.plot(cmap=plt.cm.Blues, number_label=True)"
      ],
      "execution_count": null,
      "outputs": [
        {
          "output_type": "stream",
          "name": "stdout",
          "text": [
            "Accuracy on test set: 0.990\n"
          ]
        },
        {
          "output_type": "execute_result",
          "data": {
            "text/plain": [
              "<Axes: title={'center': 'Confusion Matrix'}, xlabel='Predicted Classes', ylabel='Actual Classes'>"
            ]
          },
          "metadata": {},
          "execution_count": 18
        },
        {
          "output_type": "display_data",
          "data": {
            "text/plain": [
              "<Figure size 640x480 with 2 Axes>"
            ],
            "image/png": "[encoded data removed]"
          },
          "metadata": {}
        }
      ]
    },
    {
      "cell_type": "markdown",
      "metadata": {
        "id": "GU0PFdekEnBe"
      },
      "source": [
        "XGBoost seems to work pretty well on this problem. We have one of the highest accuracies we've seen yet and it is doing a good job on actually predicting machine failures.\n",
        "\n",
        "\n",
        "\n",
        "---\n",
        "\n"
      ]
    },
    {
      "cell_type": "markdown",
      "metadata": {
        "id": "irV2gzF_ElKp"
      },
      "source": [
        "###Conclusion"
      ]
    },
    {
      "cell_type": "markdown",
      "metadata": {
        "id": "fsH_MscJEp_-"
      },
      "source": [
        "This wraps up our whirlwind tour of machine learning. Hopefully this gives you a good starting point to try using some of these algorithms for your own projects. Some last pieces of advice: take some time to get familiar with all they hyperparameters of the algorithm you are using. I didn't have the time to get into that for this session but scikit learn and XGBoost both have a ton of helpful options you can play with for their algorithms. Finally, don't get discouraged if you start a project and end up with a bunch of errors. Google search is your friend and a large part of getting better at ML projects, just like normal programming, is making mistakes and learning from them. Thanks for your time and happy coding!"
      ]
    }
  ]
}